{
 "cells": [
  {
   "cell_type": "markdown",
   "metadata": {},
   "source": [
    "# Introducton to Simulation with R\n",
    "### Stephen Elston\n",
    "### Data Science 350\n",
    "\n",
    "This notebook contains a hands-on introduction to simulation methods. The R language is used to illustrate each major point.\n",
    "\n",
    "## Introduction\n",
    "\n",
    "Simulation enables data scientists to study the stochastic behavior of processes with complex probability distributions. Simple processes might be approximated by a know, or 'named' distributon. In these simple cases, it might even be possible to derive analytical results. However, many real-world processes have complex behavior, resulting in complex distributions of output values. In these cases, simulation is a practical approach to understanding these procecses. \n",
    "\n",
    "As cheap computational power has become ubiquitous, simulation has become a widely used technique in the data scientist's tool box. Simulations compute a large number of cases, or realizations, of the process being studied. The final or posterior distribution of the process being simualted is comprised of these realizations. The computing cost of each realization must be low in any practical simulation. \n",
    "\n",
    "Data scientists use simulation for a number of purposes:\n",
    "\n",
    "- Simulation is used to test models. If data simulated from the model do not resemble the original data, something is like wrong with the model.\n",
    "- Simulation is used to understand processes with complex distributions. In these cases, simulation provides a powerful and flexible compuational technique to understand this behavior.  \n",
    "\n",
    "In this notebook you will create a simulation of a process with a complex distribution. \n",
    "\n",
    "\n",
    "## Creating simulations\n",
    "\n",
    "Creating, testing annd debugging simulation software can be tricky. Some of the techniques which can make your life easier are the same as you should use when developing any analytics software, or even software in general. These techniques include:\n",
    "\n",
    "- Build your simulation as a series of small, easily tested chunks In practice, this means you will build your simulation by creating and testing a set of small functions that comprise the overall model.\n",
    "- Test each small functional unit individually. These tests should include at least testing some typical cases, as well as boundary or extreme cases. Sensible behavior with extreme or limiting cases is a requirement for a stable simulation. Both tabular and graphical output can be useful for evaluating tests.\n",
    "- Test your overall simulation each time you add a new funcitonal component. This processes ensures that all the pieces work together. \n",
    "- Simulations are inherently stochastic. If you want to create identica numerical resuts, say for automated testing, set a seed before you begin tests. In this notebook no seed is set so you can experience the stochastic nature of the simulation. \n",
    "\n",
    "\n",
    "## The Scenario\n",
    "\n",
    "The notebook implements a simulation of the profitability of a sandwich shop. Not suprisingly, the sandwich shop earns money every time a customer buys a sandwich. However, the inputs to the sandwich cost money. The daily profit is the amount customers pay for the sandwiches minus the costs of the inputs. \n",
    "\n",
    "The cost of bread is a particular input which is difficult to manage. TThe shop bakes its own bread, and the bread must be used on the day it is made. The customers can select one of three types of bread, wheat, and multigrain. If the shop does not have sufficient bread of the customer's choice on hand, the customer will leave the shop without buying a sandwich. However, any extra bread left at the end of the day is discarded and the cost reduces the profitability of the shop. \n",
    "\n",
    "To keep the simulation simple, several assumptions are made:\n",
    "\n",
    "- The probability that each customer chooses a particular type of bread is fixed and known. There probabilities are 50% for white bread, 25% for wheat and 25% for multigrain. \n",
    "- If a customer's choice of bread is not available the customer leaves the shop without buying a sandwich.\n",
    "- The only perishable input which must be discarded at the end of each day is the bread. "
   ]
  },
  {
   "cell_type": "markdown",
   "metadata": {},
   "source": [
    "## Realizations of Distribution\n",
    "\n",
    "The ability to compute large numbers of realizations from probabilitie distributions is fundamental to simulation. Two questions natuarally arrise. \n",
    "\n",
    "- Which distribution to choose? The answer to this question is typically determined through domain knowledge. Even so, there  may be several choices which can be tested and  compaired.\n",
    "- How many realizations are required? The answer will depend on the accuracy you require from your simulation. Typically, some tests will indicate an appropriate number of realizations.\n",
    "\n",
    "For arrival processes, Poisson distributions are typically used. However, if the arrival rate is fairly high, the difference between a Poisson distribution and an approprate Normal distribution will be minimal. "
   ]
  },
  {
   "cell_type": "code",
   "execution_count": 23,
   "metadata": {
    "collapsed": false
   },
   "outputs": [
    {
     "name": "stderr",
     "output_type": "stream",
     "text": [
      "Warning message:\n",
      "\"Removed 1 rows containing missing values (geom_bar).\"Warning message:\n",
      "\"Removed 1 rows containing missing values (geom_bar).\""
     ]
    },
    {
     "name": "stdout",
     "output_type": "stream",
     "text": [
      "TableGrob (2 x 1) \"arrange\": 2 grobs\n",
      "  z     cells    name           grob\n",
      "1 1 (1-1,1-1) arrange gtable[layout]\n",
      "2 2 (2-2,1-1) arrange gtable[layout]\n"
     ]
    },
    {
     "data": {
      "text/plain": [
       "      norm            poiss       \n",
       " Min.   : 75.54   Min.   : 77.00  \n",
       " 1st Qu.: 94.74   1st Qu.: 93.75  \n",
       " Median :101.51   Median :100.00  \n",
       " Mean   :101.97   Mean   :100.38  \n",
       " 3rd Qu.:109.99   3rd Qu.:107.00  \n",
       " Max.   :129.85   Max.   :137.00  "
      ]
     },
     "metadata": {},
     "output_type": "display_data"
    },
    {
     "data": {
      "image/png": "[encoded data removed]",
      "text/plain": [
       "plot without title"
      ]
     },
     "metadata": {},
     "output_type": "display_data"
    }
   ],
   "source": [
    "dist.plot = function(n, mu = 100, sigma = 10){\n",
    "    require(ggplot2)\n",
    "    require(gridExtra)\n",
    "    require(repr)\n",
    "    options(repr.plot.width=6, repr.plot.height=6)\n",
    "    dists = data.frame(\n",
    "        norm = rnorm(n, mu, sigma),\n",
    "        poiss = rpois(n, mu))\n",
    "    minx = min(min(dists$norm), min(dists$poiss))\n",
    "    maxx = max(max(dists$norm), max(dists$poiss))\n",
    "    bw = (maxx - minx) / 60\n",
    "    p1 = ggplot(dists, aes(norm)) + geom_histogram(binwidth = bw) + \n",
    "                xlab('Frequency of Normal Distribution') + \n",
    "                xlim(minx, maxx)\n",
    "    p2 = ggplot(dists, aes(poiss)) + geom_histogram(binwidth = bw) +\n",
    "                xlab('Frequency of Poisson Distribution')  + \n",
    "                xlim(minx, maxx)\n",
    "    print(grid.arrange(p1, p2, nrow = 2))\n",
    "    summary(dists)\n",
    "}\n",
    "dist.plot(100)"
   ]
  },
  {
   "cell_type": "markdown",
   "metadata": {},
   "source": [
    "**Your Turn:** To develop a feeling for how the Normal and  Poisson distributions change with number of realizations and the expected value, in the cells below try the following:\n",
    "\n",
    "- Using the R `lappy` function compute the summary statistics and plot the Normal and Poisson distribtutions with an expected value of 100 and 1000, 10000, and 100000 realizations.\n",
    "- Using the R `Map` function (use `?Map` if you don't know how this works), plot the Normal and Poisson distributions with 100000 realizations and expected values of 600, 300 and 100. **Hint**, the `Map` function uses two or more argument lists. In this case, you need an argument list for `n` and `mu`. "
   ]
  },
  {
   "cell_type": "markdown",
   "metadata": {
    "collapsed": false
   },
   "source": [
    "**Your turn:** "
   ]
  },
  {
   "cell_type": "code",
   "execution_count": null,
   "metadata": {
    "collapsed": false,
    "scrolled": true
   },
   "outputs": [],
   "source": []
  },
  {
   "cell_type": "markdown",
   "metadata": {},
   "source": [
    "## Simulate Demand\n",
    "\n",
    "In order to develop an overall profitability model the demand must be simulated. To simulate demand you must first simulate the number of arrivals and then the demand for each type of bread given the arrivals. \n",
    "\n",
    "The demand for bread on a given day is sumulated with the code in the cell below. Given the number of arrivals `n`, the `sim.demand` function computes the numbers of each type of bread required. The last line of code in the the cell tests the function for one realization. Run this code and examine the result."
   ]
  },
  {
   "cell_type": "code",
   "execution_count": 24,
   "metadata": {
    "collapsed": false
   },
   "outputs": [
    {
     "data": {
      "text/plain": [
       "\n",
       "multi wheat white \n",
       "   28    28    44 "
      ]
     },
     "metadata": {},
     "output_type": "display_data"
    }
   ],
   "source": [
    "sim.bread = function(n){\n",
    "  bread = runif(n) # Probabilities of bread choice \n",
    "  ifelse(bread <= 0.5, 'white', \n",
    "         ifelse(bread <= 0.75, 'wheat', 'multi'))\n",
    "}\n",
    "\n",
    "table(sim.bread(100))"
   ]
  },
  {
   "cell_type": "markdown",
   "metadata": {},
   "source": [
    "Examine the table of demand by type of bread. Notice that the proportions of white, wheat and muligrain are approximately 2, 1, 1, respectively. \n"
   ]
  },
  {
   "cell_type": "markdown",
   "metadata": {},
   "source": [
    "You can now compute the dread demand for one realization of arrivals. Next, you must simulate realizaitons of arrivals of people at the sandwich shop. Often arrival rates, k, per time interval are modeled as a Poisson process with rate or intesity $\\lambda$, which can be written:\n",
    "\n",
    "$$P(k\\ arrivals\\ per\\ interval) = \\frac{\\lambda^k\\ e^{-\\lambda}}{k!}$$\n",
    "\n",
    "The demand for bread is clealy dependent on the number of arrivals, as well as the probability that customers choose each type of bread. In other words, what you need to compute is the conditional distribuion of bread demand given arrivals, or $P(bread\\ |\\ arrivals)$.\n",
    "\n",
    "The code in the cell below performs the following operations:\n",
    "\n",
    "- The distribution of the arrivals in computed by realizations of a Poisson distribution.\n",
    "- A matrix is created to hold  the demand for each bread type for each realization of the arrivals.\n",
    "- Loop over the realizations of the arrivals, compute the demand for each bread type, and save the results in a row of the matrix.\n",
    "\n",
    "Execute this code and  examine the results."
   ]
  },
  {
   "cell_type": "code",
   "execution_count": 25,
   "metadata": {
    "collapsed": false
   },
   "outputs": [
    {
     "data": {
      "text/html": [
       "<table>\n",
       "<thead><tr><th scope=col>multigrain</th><th scope=col>wheat</th><th scope=col>white</th></tr></thead>\n",
       "<tbody>\n",
       "\t<tr><td>31</td><td>36</td><td>49</td></tr>\n",
       "\t<tr><td>28</td><td>26</td><td>45</td></tr>\n",
       "\t<tr><td>24</td><td>24</td><td>49</td></tr>\n",
       "\t<tr><td>18</td><td>25</td><td>54</td></tr>\n",
       "\t<tr><td>24</td><td>27</td><td>51</td></tr>\n",
       "\t<tr><td>21</td><td>28</td><td>59</td></tr>\n",
       "\t<tr><td>23</td><td>18</td><td>53</td></tr>\n",
       "\t<tr><td>32</td><td>21</td><td>46</td></tr>\n",
       "\t<tr><td>22</td><td>21</td><td>43</td></tr>\n",
       "\t<tr><td>21</td><td>25</td><td>68</td></tr>\n",
       "</tbody>\n",
       "</table>\n"
      ],
      "text/latex": [
       "\\begin{tabular}{r|lll}\n",
       " multigrain & wheat & white\\\\\n",
       "\\hline\n",
       "\t 31 & 36 & 49\\\\\n",
       "\t 28 & 26 & 45\\\\\n",
       "\t 24 & 24 & 49\\\\\n",
       "\t 18 & 25 & 54\\\\\n",
       "\t 24 & 27 & 51\\\\\n",
       "\t 21 & 28 & 59\\\\\n",
       "\t 23 & 18 & 53\\\\\n",
       "\t 32 & 21 & 46\\\\\n",
       "\t 22 & 21 & 43\\\\\n",
       "\t 21 & 25 & 68\\\\\n",
       "\\end{tabular}\n"
      ],
      "text/markdown": [
       "\n",
       "multigrain | wheat | white | \n",
       "|---|---|---|---|---|---|---|---|---|---|\n",
       "| 31 | 36 | 49 | \n",
       "| 28 | 26 | 45 | \n",
       "| 24 | 24 | 49 | \n",
       "| 18 | 25 | 54 | \n",
       "| 24 | 27 | 51 | \n",
       "| 21 | 28 | 59 | \n",
       "| 23 | 18 | 53 | \n",
       "| 32 | 21 | 46 | \n",
       "| 22 | 21 | 43 | \n",
       "| 21 | 25 | 68 | \n",
       "\n",
       "\n"
      ],
      "text/plain": [
       "   multigrain wheat white\n",
       "1  31         36    49   \n",
       "2  28         26    45   \n",
       "3  24         24    49   \n",
       "4  18         25    54   \n",
       "5  24         27    51   \n",
       "6  21         28    59   \n",
       "7  23         18    53   \n",
       "8  32         21    46   \n",
       "9  22         21    43   \n",
       "10 21         25    68   "
      ]
     },
     "metadata": {},
     "output_type": "display_data"
    }
   ],
   "source": [
    "sim.demand = function(lambda, n){\n",
    "    arrivals = rpois(n, lambda)  # Compute realizations of arrivals\n",
    "    demand.mat = matrix(0, n, 3) # Initalize a matrix\n",
    "    i = 1\n",
    "    for (a in arrivals) {\n",
    "        demand.mat[i, ] = t(matrix(table(sim.bread(a)))) # Add one realization to matrix\n",
    "        i = i + 1\n",
    "    }   \n",
    "    demand = data.frame(demand.mat)\n",
    "    names(demand) = c('multigrain', 'wheat', 'white')\n",
    "    demand\n",
    "} \n",
    "sim.demand(100, 10)"
   ]
  },
  {
   "cell_type": "markdown",
   "metadata": {
    "collapsed": true
   },
   "source": [
    "**Your Turn:** Plot the distribution of at least one bead type based on 10000 realizations."
   ]
  },
  {
   "cell_type": "code",
   "execution_count": null,
   "metadata": {
    "collapsed": false
   },
   "outputs": [],
   "source": []
  },
  {
   "cell_type": "markdown",
   "metadata": {},
   "source": [
    "## Simulate Bread Baked\n",
    "\n",
    "The number of each type of bread baked in the sandwich shop is deterministic. Presumably the shop manager has a plan for the day, and the bread is baked in advance of the customer arrivals. The code in the cell below computes a data frame containing the number of loaves of each type of bead baked. Run this code to test the function."
   ]
  },
  {
   "cell_type": "code",
   "execution_count": 26,
   "metadata": {
    "collapsed": false
   },
   "outputs": [
    {
     "data": {
      "text/html": [
       "<table>\n",
       "<thead><tr><th scope=col>multigrain</th><th scope=col>wheat</th><th scope=col>white</th></tr></thead>\n",
       "<tbody>\n",
       "\t<tr><td>3</td><td>3</td><td>6</td></tr>\n",
       "</tbody>\n",
       "</table>\n"
      ],
      "text/latex": [
       "\\begin{tabular}{lll}\n",
       " multigrain & wheat & white\\\\\n",
       "\\hline\n",
       "\t 3 & 3 & 6\\\\\n",
       "\\end{tabular}\n"
      ],
      "text/markdown": [
       "\n",
       "multigrain | wheat | white | \n",
       "|---|\n",
       "| 3 | 3 | 6 | \n",
       "\n",
       "\n"
      ],
      "text/plain": [
       "     multigrain wheat white\n",
       "[1,] 3          3     6    "
      ]
     },
     "metadata": {},
     "output_type": "display_data"
    }
   ],
   "source": [
    "baked.bread = function(n){\n",
    "    baked = c(rep('white', times =n/2), \n",
    "             rep('wheat', times = n/4),\n",
    "             rep('multi', times =n/4))\n",
    "    baked = data.frame(table(baked))[, 2]\n",
    "    names(baked) = c('multigrain', 'wheat', 'white')\n",
    "    t(baked)\n",
    "}\n",
    "baked.bread(12)"
   ]
  },
  {
   "cell_type": "markdown",
   "metadata": {},
   "source": [
    "## Simulate and plot profit\n",
    "\n",
    "You now have almost all the pieces in place to create the complete simulation of the distribution of profitability of the sandwich shop. The only missing piece is to compute the total profit based on the number of sandwiches sold and the cost of the bread baked. \n",
    "\n",
    "The calculation of the profit is done by bread type. If the demand for a bread type is less that the available bread, the cost of the bread is subtracted by the profit at that demand. If the demand is greater than the available bread, the profit is limited by the amount of bread available. \n",
    "\n",
    "The code in cell below performs the following operations:\n",
    "\n",
    "- Compute the amount of bread baked.\n",
    "- Compute the realizations of demand by bread type.\n",
    "- For each realization of each bread type, compute the profit based on the available bread.\n",
    "\n",
    "Run this code and examine the results."
   ]
  },
  {
   "cell_type": "code",
   "execution_count": 27,
   "metadata": {
    "collapsed": false
   },
   "outputs": [
    {
     "data": {
      "text/html": [
       "<table>\n",
       "<thead><tr><th scope=col>profit</th><th scope=col>demand.multigrain</th><th scope=col>demand.wheat</th><th scope=col>demand.white</th><th scope=col>bread.multigrain</th><th scope=col>bread.wheat</th><th scope=col>bread.white</th></tr></thead>\n",
       "<tbody>\n",
       "\t<tr><td>64</td><td>28</td><td>16</td><td>48</td><td>25</td><td>25</td><td>50</td></tr>\n",
       "\t<tr><td>75</td><td>25</td><td>34</td><td>54</td><td>25</td><td>25</td><td>50</td></tr>\n",
       "\t<tr><td>66</td><td>26</td><td>16</td><td>58</td><td>25</td><td>25</td><td>50</td></tr>\n",
       "\t<tr><td>64</td><td>21</td><td>19</td><td>49</td><td>25</td><td>25</td><td>50</td></tr>\n",
       "\t<tr><td>75</td><td>33</td><td>27</td><td>53</td><td>25</td><td>25</td><td>50</td></tr>\n",
       "\t<tr><td>68</td><td>24</td><td>22</td><td>47</td><td>25</td><td>25</td><td>50</td></tr>\n",
       "\t<tr><td>75</td><td>34</td><td>29</td><td>53</td><td>25</td><td>25</td><td>50</td></tr>\n",
       "\t<tr><td>69</td><td>20</td><td>24</td><td>62</td><td>25</td><td>25</td><td>50</td></tr>\n",
       "\t<tr><td>75</td><td>26</td><td>29</td><td>51</td><td>25</td><td>25</td><td>50</td></tr>\n",
       "\t<tr><td>71</td><td>24</td><td>28</td><td>47</td><td>25</td><td>25</td><td>50</td></tr>\n",
       "</tbody>\n",
       "</table>\n"
      ],
      "text/latex": [
       "\\begin{tabular}{r|lllllll}\n",
       " profit & demand.multigrain & demand.wheat & demand.white & bread.multigrain & bread.wheat & bread.white\\\\\n",
       "\\hline\n",
       "\t 64 & 28 & 16 & 48 & 25 & 25 & 50\\\\\n",
       "\t 75 & 25 & 34 & 54 & 25 & 25 & 50\\\\\n",
       "\t 66 & 26 & 16 & 58 & 25 & 25 & 50\\\\\n",
       "\t 64 & 21 & 19 & 49 & 25 & 25 & 50\\\\\n",
       "\t 75 & 33 & 27 & 53 & 25 & 25 & 50\\\\\n",
       "\t 68 & 24 & 22 & 47 & 25 & 25 & 50\\\\\n",
       "\t 75 & 34 & 29 & 53 & 25 & 25 & 50\\\\\n",
       "\t 69 & 20 & 24 & 62 & 25 & 25 & 50\\\\\n",
       "\t 75 & 26 & 29 & 51 & 25 & 25 & 50\\\\\n",
       "\t 71 & 24 & 28 & 47 & 25 & 25 & 50\\\\\n",
       "\\end{tabular}\n"
      ],
      "text/markdown": [
       "\n",
       "profit | demand.multigrain | demand.wheat | demand.white | bread.multigrain | bread.wheat | bread.white | \n",
       "|---|---|---|---|---|---|---|---|---|---|\n",
       "| 64 | 28 | 16 | 48 | 25 | 25 | 50 | \n",
       "| 75 | 25 | 34 | 54 | 25 | 25 | 50 | \n",
       "| 66 | 26 | 16 | 58 | 25 | 25 | 50 | \n",
       "| 64 | 21 | 19 | 49 | 25 | 25 | 50 | \n",
       "| 75 | 33 | 27 | 53 | 25 | 25 | 50 | \n",
       "| 68 | 24 | 22 | 47 | 25 | 25 | 50 | \n",
       "| 75 | 34 | 29 | 53 | 25 | 25 | 50 | \n",
       "| 69 | 20 | 24 | 62 | 25 | 25 | 50 | \n",
       "| 75 | 26 | 29 | 51 | 25 | 25 | 50 | \n",
       "| 71 | 24 | 28 | 47 | 25 | 25 | 50 | \n",
       "\n",
       "\n"
      ],
      "text/plain": [
       "   profit demand.multigrain demand.wheat demand.white bread.multigrain\n",
       "1  64     28                16           48           25              \n",
       "2  75     25                34           54           25              \n",
       "3  66     26                16           58           25              \n",
       "4  64     21                19           49           25              \n",
       "5  75     33                27           53           25              \n",
       "6  68     24                22           47           25              \n",
       "7  75     34                29           53           25              \n",
       "8  69     20                24           62           25              \n",
       "9  75     26                29           51           25              \n",
       "10 71     24                28           47           25              \n",
       "   bread.wheat bread.white\n",
       "1  25          50         \n",
       "2  25          50         \n",
       "3  25          50         \n",
       "4  25          50         \n",
       "5  25          50         \n",
       "6  25          50         \n",
       "7  25          50         \n",
       "8  25          50         \n",
       "9  25          50         \n",
       "10 25          50         "
      ]
     },
     "metadata": {},
     "output_type": "display_data"
    }
   ],
   "source": [
    "sim.profit = function(baked, n, lambda, earned, cost){\n",
    "    bread = baked.bread(baked) # Amount of bread baked\n",
    "    demand = sim.demand(lambda, n) # Demand by type of bread\n",
    "    profit = matrix(0, n, 1) # Empty matrix for results\n",
    "    for (i in 1:3){  # Loop over each type of bread\n",
    "        temp = bread[i] - demand[, i]\n",
    "        profit = ifelse(temp >= 0,  # Did we have enough bread of this type?\n",
    "                        profit + earned * demand[, i] - cost * bread[i], # If yes, compute profit\n",
    "                        profit + (earned - cost) * bread[i]) # If no, limited by available bread\n",
    "    }\n",
    "    data.frame(profit = profit, demand = demand, bread = bread)\n",
    "}\n",
    "sim.profit(100, 10, 100, 1.00, .25)"
   ]
  },
  {
   "cell_type": "markdown",
   "metadata": {},
   "source": []
  },
  {
   "cell_type": "code",
   "execution_count": 28,
   "metadata": {
    "collapsed": false
   },
   "outputs": [
    {
     "name": "stderr",
     "output_type": "stream",
     "text": [
      "`stat_bin()` using `bins = 30`. Pick better value with `binwidth`.\n",
      "`stat_bin()` using `bins = 30`. Pick better value with `binwidth`.\n"
     ]
    },
    {
     "name": "stdout",
     "output_type": "stream",
     "text": [
      "TableGrob (2 x 1) \"arrange\": 2 grobs\n",
      "  z     cells    name           grob\n",
      "1 1 (1-1,1-1) arrange gtable[layout]\n",
      "2 2 (2-2,1-1) arrange gtable[layout]\n"
     ]
    },
    {
     "data": {
      "text/plain": [
       "     profit          demand      \n",
       " Min.   :40.00   Min.   : 65.00  \n",
       " 1st Qu.:65.00   1st Qu.: 93.00  \n",
       " Median :69.00   Median :100.00  \n",
       " Mean   :68.17   Mean   : 99.93  \n",
       " 3rd Qu.:73.00   3rd Qu.:107.00  \n",
       " Max.   :75.00   Max.   :144.00  "
      ]
     },
     "metadata": {},
     "output_type": "display_data"
    },
    {
     "data": {
      "image/png": "[encoded data removed]",
      "text/plain": [
       "plot without title"
      ]
     },
     "metadata": {},
     "output_type": "display_data"
    }
   ],
   "source": [
    "plot.demand = function(demand){\n",
    "    require(ggplot2)\n",
    "    require(gridExtra)\n",
    "    demand$demand = apply(demand[, 2:4], 1, sum) # Compute the total demand\n",
    "    p1 = ggplot(demand, aes(demand)) + geom_histogram() +\n",
    "         ggtitle('Histogram of demand for sandwiches')\n",
    "    p2 = ggplot(demand, aes(profit)) + geom_histogram() +\n",
    "         ggtitle('Histogram of profit from sandwiches')\n",
    "    print(grid.arrange(p1, p2, nrow = 2))\n",
    "    summary(demand[, c(1, 8)])\n",
    "}\n",
    "demand = sim.profit(100, 10000, 100, 1.00, .25)\n",
    "plot.demand(demand)"
   ]
  },
  {
   "cell_type": "markdown",
   "metadata": {},
   "source": [
    "## Profit vs. Bread Baked\n",
    "\n",
    "Of several remaining quesitons, a manager of the sandwich shop might be most interested in the relationship between profitability the number of bread baked loaves baked. Understanding this relationship will help the manager optimize the profit of the shop. \n",
    "\n",
    "Since there is only one variable in this case, it is a simple matter to step over some likely values and find the one which optimizes the profit of the shop. The code in the cell does just this and plots a graph of the result. Run the code and examine the result. "
   ]
  },
  {
   "cell_type": "code",
   "execution_count": 83,
   "metadata": {
    "collapsed": false
   },
   "outputs": [
    {
     "data": {
      "text/html": [
       "<table>\n",
       "<thead><tr><th scope=col>baked</th><th scope=col>profits</th></tr></thead>\n",
       "<tbody>\n",
       "\t<tr><td> 60  </td><td>44.92</td></tr>\n",
       "\t<tr><td> 80  </td><td>59.03</td></tr>\n",
       "\t<tr><td>100  </td><td>68.18</td></tr>\n",
       "\t<tr><td>120  </td><td>71.31</td></tr>\n",
       "\t<tr><td>140  </td><td>67.04</td></tr>\n",
       "\t<tr><td>160  </td><td>57.62</td></tr>\n",
       "</tbody>\n",
       "</table>\n"
      ],
      "text/latex": [
       "\\begin{tabular}{r|ll}\n",
       " baked & profits\\\\\n",
       "\\hline\n",
       "\t  60   & 44.92\\\\\n",
       "\t  80   & 59.03\\\\\n",
       "\t 100   & 68.18\\\\\n",
       "\t 120   & 71.31\\\\\n",
       "\t 140   & 67.04\\\\\n",
       "\t 160   & 57.62\\\\\n",
       "\\end{tabular}\n"
      ],
      "text/markdown": [
       "\n",
       "baked | profits | \n",
       "|---|---|---|---|---|---|\n",
       "|  60   | 44.92 | \n",
       "|  80   | 59.03 | \n",
       "| 100   | 68.18 | \n",
       "| 120   | 71.31 | \n",
       "| 140   | 67.04 | \n",
       "| 160   | 57.62 | \n",
       "\n",
       "\n"
      ],
      "text/plain": [
       "  baked profits\n",
       "1  60   44.92  \n",
       "2  80   59.03  \n",
       "3 100   68.18  \n",
       "4 120   71.31  \n",
       "5 140   67.04  \n",
       "6 160   57.62  "
      ]
     },
     "metadata": {},
     "output_type": "display_data"
    },
    {
     "data": {
      "image/png": "[encoded data removed]",
      "text/plain": [
       "plot without title"
      ]
     },
     "metadata": {},
     "output_type": "display_data"
    }
   ],
   "source": [
    "sim.total = function(baked, group, n = 100, lambda = 100, earned = 1.0, cost = 0.25){\n",
    "    bake.steps = length(baked)\n",
    "    profits = rep(0, length.out = bake.steps)\n",
    "    for(i in 1:bake.steps) {\n",
    "        demand = sim.profit(baked = baked[i], n = n, lambda = lambda, earned = earned, cost = cost)\n",
    "        profits[i] = mean(demand$profit)\n",
    "    }\n",
    "    data.frame(sim.group = group, baked = baked, profits = profits)\n",
    "}\n",
    "\n",
    "plot.profit = function(baked, n = 100, lambda = 100, earned = 1.0, cost = 0.25){\n",
    "    require(ggplot2)\n",
    "    demand = sim.total(baked = baked, group = 1, n = 100, lambda = 100, earned = 1.0, cost = 0.25)\n",
    "    print(ggplot(demand, aes(baked, profits)) + \n",
    "          geom_line(size = 1.5, color = 'blue') +\n",
    "         xlab('Number of bread baked') + ylab('Total profit') +\n",
    "         ggtitle('Sandwich shop profit vs. bread baked'))\n",
    "    demand[, c('baked', 'profits')]\n",
    "}\n",
    "baked = c(60, 80, 100, 120, 140, 160)\n",
    "plot.profit(baked)"
   ]
  },
  {
   "cell_type": "markdown",
   "metadata": {},
   "source": [
    "There is still the issue of how much the results of this simulation vary from run to run. With a bit more code, the results of a number of number of simulation runs, the mean value, and the standard deviation of the profit across simulation runs can be computed and displayed. \n",
    "\n",
    "Run this code and examine the printed and ploted results. "
   ]
  },
  {
   "cell_type": "code",
   "execution_count": 85,
   "metadata": {
    "collapsed": false
   },
   "outputs": [
    {
     "data": {
      "text/html": [
       "<table>\n",
       "<thead><tr><th scope=col>baked</th><th scope=col>profits</th><th scope=col>sd</th></tr></thead>\n",
       "<tbody>\n",
       "\t<tr><td> 60       </td><td>44.9467   </td><td>0.04000139</td></tr>\n",
       "\t<tr><td> 80       </td><td>59.0727   </td><td>0.16618631</td></tr>\n",
       "\t<tr><td>100       </td><td>68.1421   </td><td>0.59144113</td></tr>\n",
       "\t<tr><td>120       </td><td>68.8053   </td><td>1.00657982</td></tr>\n",
       "\t<tr><td>140       </td><td>64.8724   </td><td>0.99766608</td></tr>\n",
       "\t<tr><td>160       </td><td>60.0093   </td><td>1.03632339</td></tr>\n",
       "</tbody>\n",
       "</table>\n"
      ],
      "text/latex": [
       "\\begin{tabular}{r|lll}\n",
       " baked & profits & sd\\\\\n",
       "\\hline\n",
       "\t  60        & 44.9467    & 0.04000139\\\\\n",
       "\t  80        & 59.0727    & 0.16618631\\\\\n",
       "\t 100        & 68.1421    & 0.59144113\\\\\n",
       "\t 120        & 68.8053    & 1.00657982\\\\\n",
       "\t 140        & 64.8724    & 0.99766608\\\\\n",
       "\t 160        & 60.0093    & 1.03632339\\\\\n",
       "\\end{tabular}\n"
      ],
      "text/markdown": [
       "\n",
       "baked | profits | sd | \n",
       "|---|---|---|---|---|---|\n",
       "|  60        | 44.9467    | 0.04000139 | \n",
       "|  80        | 59.0727    | 0.16618631 | \n",
       "| 100        | 68.1421    | 0.59144113 | \n",
       "| 120        | 68.8053    | 1.00657982 | \n",
       "| 140        | 64.8724    | 0.99766608 | \n",
       "| 160        | 60.0093    | 1.03632339 | \n",
       "\n",
       "\n"
      ],
      "text/plain": [
       "  baked profits sd        \n",
       "1  60   44.9467 0.04000139\n",
       "2  80   59.0727 0.16618631\n",
       "3 100   68.1421 0.59144113\n",
       "4 120   68.8053 1.00657982\n",
       "5 140   64.8724 0.99766608\n",
       "6 160   60.0093 1.03632339"
      ]
     },
     "metadata": {},
     "output_type": "display_data"
    },
    {
     "data": {
      "image/png": "[encoded data removed]",
      "text/plain": [
       "plot without title"
      ]
     },
     "metadata": {},
     "output_type": "display_data"
    }
   ],
   "source": [
    "sim.total = function(baked, group, n = 100, lambda = 100, earned = 1.0, cost = 0.25){\n",
    "    bake.steps = length(baked)\n",
    "    profits = rep(0, length.out = bake.steps)\n",
    "    for(i in 1:bake.steps) {\n",
    "        demand = sim.profit(baked = baked[i], n = n, lambda = lambda, earned = earned, cost = cost)\n",
    "        profits[i] = mean(demand$profit)\n",
    "    }\n",
    "    data.frame(sim.group = group, baked = baked, profits = profits)\n",
    "}\n",
    "\n",
    "plot.profit.sim = function(baked, n = 100, lambda = 100, earned = 1.0, cost = 0.25, nsim = 100){\n",
    "    require(ggplot2)\n",
    "    require(dplyr)\n",
    "    demand = sim.total(baked = baked, group = 1, n = 100, lambda = 100, earned = 1.0, cost = 0.25)\n",
    "    for(i in 2:nsim){\n",
    "        demand = rbind(demand, \n",
    "                      sim.total(baked = baked, group = i, n = 100, lambda = 100, earned = 1.0, cost = 0.25))\n",
    "    }\n",
    "\n",
    "    profits = demand %>% group_by(factor(baked)) %>% summarize(mean(profits), sd(profits))\n",
    "    profits = data.frame(baked = baked, profits = profits[[2]], sd = profits[[3]])\n",
    "\n",
    "    print(ggplot() + \n",
    "          geom_line(data = demand, aes(x = baked, y = profits, group = sim.group), alpha = 0.3) +\n",
    "          geom_line(data = profits, aes(x = baked, y = profits), size = 1, color = 'blue') + \n",
    "          xlab('Number of bread baked') + ylab('Total profit') +\n",
    "          ggtitle('Sandwich shop profit vs. bread baked'))\n",
    "     \n",
    "    profits\n",
    "}\n",
    "baked = c(60, 80, 100, 120, 140, 160)\n",
    "plot.profit.sim(baked)"
   ]
  },
  {
   "cell_type": "markdown",
   "metadata": {
    "collapsed": true
   },
   "source": [
    "For most part the difference in profits between 100 and 120 loaves of bread prepared is minimal. This is particularly the case if you look at the standard deviation of these means. "
   ]
  },
  {
   "cell_type": "code",
   "execution_count": null,
   "metadata": {
    "collapsed": true
   },
   "outputs": [],
   "source": []
  },
  {
   "cell_type": "markdown",
   "metadata": {
    "collapsed": true
   },
   "source": [
    "#### Copyright 2017, Stephen F Elston. All rights reserved."
   ]
  }
 ],
 "metadata": {
  "anaconda-cloud": {},
  "kernelspec": {
   "display_name": "R",
   "language": "R",
   "name": "ir"
  },
  "language_info": {
   "codemirror_mode": "r",
   "file_extension": ".r",
   "mimetype": "text/x-r-source",
   "name": "R",
   "pygments_lexer": "r",
   "version": "3.3.1"
  }
 },
 "nbformat": 4,
 "nbformat_minor": 1
}
