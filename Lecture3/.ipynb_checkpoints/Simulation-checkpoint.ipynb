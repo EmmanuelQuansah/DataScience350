{
 "cells": [
  {
   "cell_type": "markdown",
   "metadata": {},
   "source": [
    "# Introducton to Simulation with R\n",
    "### Stephen Elston\n",
    "### Data Science 350\n",
    "\n",
    "This notebook contains a hands-on introduction to simulation methods. The R language is used to illustrate each major point.\n",
    "\n",
    "## Introduction\n",
    "\n",
    "Simulation enables data scientists to study the stochastic behavior of processes with complex probability distributions. Simple processes might be approximated by a know, or 'named' distributon. In these simple cases, it might even be possible to derive analytical results. However, many real-world processes have complex behavior, resulting in complex distributions of output values. In these cases, simulation is a practical approach to understanding these procecses. \n",
    "\n",
    "As cheap computational power has become ubiquitous, simulation has become a widely used technique in the data scientist's tool box. Simulations compute a large number of cases, or realizations, of the process being studied. The final or posterior distribution of the process being simualted is comprised of these realizations. The computing cost of each realization must be low in any practical simulation. \n",
    "\n",
    "Data scientists use simulation for a number of purposes:\n",
    "\n",
    "- Simulation is used to test models. If data simulated from the model do not resemble the original data, something is like wrong with the model.\n",
    "- Simulation is used to understand processes with complex distributions. In these cases, simulation provides a powerful and flexible compuational technique to understand this behavior.  \n",
    "\n",
    "In this notebook you will create a simulation of a process with a complex distribution. \n",
    "\n",
    "\n",
    "## Creating simulations\n",
    "\n",
    "Creating, testing annd debugging simulation software can be tricky. Some of the techniques which can make your life easier are the same as you should use when developing any analytics software, or even software in general. These techniques include:\n",
    "\n",
    "- Build your simulation as a series of small, easily tested chunks In practice, this means you will build your simulation by creating and testing a set of small functions that comprise the overall model.\n",
    "- Test each small functional unit individually. These tests should include at least testing some typical cases, as well as boundary or extreme cases. Sensible behavior with extreme or limiting cases is a requirement for a stable simulation. Both tabular and graphical output can be useful for evaluating tests.\n",
    "- Test your overall simulation each time you add a new funcitonal component. This processes ensures that all the pieces work together. \n",
    "- Simulations are inherently stochastic. If you want to create identica numerical resuts, say for automated testing, set a seed before you begin tests. In this notebook no seed is set so you can experience the stochastic nature of the simulation. \n",
    "\n",
    "\n",
    "## The Scenario\n",
    "\n",
    "The notebook implements a simulation of the profitability of a sandwich shop. Not suprisingly, the sandwich shop earns money every time a customer buys a sandwich. However, the inputs to the sandwich cost money. The daily profit is the amount customers pay for the sandwiches minus the costs of the inputs. \n",
    "\n",
    "The cost of bread is a particular input which is difficult to manage. TThe shop bakes its own bread, and the bread must be used on the day it is made. The customers can select one of three types of bread, wheat, and multigrain. If the shop does not have sufficient bread of the customer's choice on hand, the customer will leave the shop without buying a sandwich. However, any extra bread left at the end of the day is discarded and the cost reduces the profitability of the shop. \n",
    "\n",
    "To keep the simulation simple, several assumptions are made:\n",
    "\n",
    "- The probability that each customer chooses a particular type of bread is fixed and known. There probabilities are 50% for white bread, 25% for wheat and 25% for multigrain. \n",
    "- If a customer's choice of bread is not available the customer leaves the shop without buying a sandwich.\n",
    "- The only perishable input which must be discarded at the end of each day is the bread. "
   ]
  },
  {
   "cell_type": "markdown",
   "metadata": {},
   "source": [
    "## Simulate Demand\n",
    "\n",
    "In order to develop an overall profitability model the demand must be simulated. To simulate demand you must first simulate the number of arrivals and then the demand for each type of bread given the arrivals. \n",
    "\n",
    "The demand for bread on a given day is sumulated with the code in the cell below. Given the number of arrivals `n`, the `sim.demand` function computes the numbers of each type of bread required. The last line of code in the the cell tests the function for one realization. Run this code and examine the result."
   ]
  },
  {
   "cell_type": "code",
   "execution_count": 30,
   "metadata": {
    "collapsed": false
   },
   "outputs": [
    {
     "data": {
      "text/plain": [
       "\n",
       "multi wheat white \n",
       "   26    26    48 "
      ]
     },
     "metadata": {},
     "output_type": "display_data"
    }
   ],
   "source": [
    "sim.bread = function(n){\n",
    "  bread = runif(n) # Probabilities of bread choice \n",
    "  ifelse(bread <= 0.5, 'white', \n",
    "         ifelse(bread <= 0.75, 'wheat', 'multi'))\n",
    "}\n",
    "\n",
    "table(sim.bread(100))"
   ]
  },
  {
   "cell_type": "markdown",
   "metadata": {},
   "source": [
    "Examine the table of demand by type of bread. Notice that the proportions of white, wheat and muligrain are approximately 2, 1, 1, respectively. \n"
   ]
  },
  {
   "cell_type": "markdown",
   "metadata": {},
   "source": [
    "## Simulate demand\n",
    "\n",
    "Next, you must simulate the arrival rate of people at the sandwich shop. Often arrivals are models as a Poisson process with rate of intesity $\\lambda$. \n",
    "\n",
    "Alternatively, arrivals can be approximated by a Normal distribution with mean $\\mu$ and standard deviation $\\sigma$:\n",
    "\n",
    "The code in the cell below computes `n` realizations of the Normal and Poisson distributions and plots the results as histograms. Run this code and examine the results."
   ]
  },
  {
   "cell_type": "code",
   "execution_count": 2,
   "metadata": {
    "collapsed": false
   },
   "outputs": [],
   "source": [
    "dist.plot = function(n, mu = 100, sigma = 30){\n",
    "    norm = rnorm(n, mu, sigma)\n",
    "}\n",
    "dist.plot(100)"
   ]
  },
  {
   "cell_type": "markdown",
   "metadata": {},
   "source": [
    "\n",
    "**Your Turn:** In the cell below create and run the code to compute and compare realizations of the Normal and Poisson distributions. "
   ]
  },
  {
   "cell_type": "code",
   "execution_count": 31,
   "metadata": {
    "collapsed": false
   },
   "outputs": [
    {
     "data": {
      "text/html": [
       "<table>\n",
       "<thead><tr><th scope=col>multigrain</th><th scope=col>wheat</th><th scope=col>white</th></tr></thead>\n",
       "<tbody>\n",
       "\t<tr><td>24</td><td>27</td><td>37</td></tr>\n",
       "\t<tr><td>31</td><td>27</td><td>46</td></tr>\n",
       "\t<tr><td>26</td><td>20</td><td>54</td></tr>\n",
       "\t<tr><td>18</td><td>26</td><td>51</td></tr>\n",
       "\t<tr><td>21</td><td>25</td><td>58</td></tr>\n",
       "\t<tr><td>29</td><td>29</td><td>46</td></tr>\n",
       "\t<tr><td>17</td><td>25</td><td>47</td></tr>\n",
       "\t<tr><td>17</td><td>32</td><td>53</td></tr>\n",
       "\t<tr><td>20</td><td>23</td><td>42</td></tr>\n",
       "\t<tr><td>28</td><td>20</td><td>57</td></tr>\n",
       "</tbody>\n",
       "</table>\n"
      ],
      "text/latex": [
       "\\begin{tabular}{r|lll}\n",
       " multigrain & wheat & white\\\\\n",
       "\\hline\n",
       "\t 24 & 27 & 37\\\\\n",
       "\t 31 & 27 & 46\\\\\n",
       "\t 26 & 20 & 54\\\\\n",
       "\t 18 & 26 & 51\\\\\n",
       "\t 21 & 25 & 58\\\\\n",
       "\t 29 & 29 & 46\\\\\n",
       "\t 17 & 25 & 47\\\\\n",
       "\t 17 & 32 & 53\\\\\n",
       "\t 20 & 23 & 42\\\\\n",
       "\t 28 & 20 & 57\\\\\n",
       "\\end{tabular}\n"
      ],
      "text/markdown": [
       "\n",
       "multigrain | wheat | white | \n",
       "|---|---|---|---|---|---|---|---|---|---|\n",
       "| 24 | 27 | 37 | \n",
       "| 31 | 27 | 46 | \n",
       "| 26 | 20 | 54 | \n",
       "| 18 | 26 | 51 | \n",
       "| 21 | 25 | 58 | \n",
       "| 29 | 29 | 46 | \n",
       "| 17 | 25 | 47 | \n",
       "| 17 | 32 | 53 | \n",
       "| 20 | 23 | 42 | \n",
       "| 28 | 20 | 57 | \n",
       "\n",
       "\n"
      ],
      "text/plain": [
       "   multigrain wheat white\n",
       "1  24         27    37   \n",
       "2  31         27    46   \n",
       "3  26         20    54   \n",
       "4  18         26    51   \n",
       "5  21         25    58   \n",
       "6  29         29    46   \n",
       "7  17         25    47   \n",
       "8  17         32    53   \n",
       "9  20         23    42   \n",
       "10 28         20    57   "
      ]
     },
     "metadata": {},
     "output_type": "display_data"
    }
   ],
   "source": [
    "sim.demand = function(lambda, n){\n",
    "    arrivals = rpois(n, lambda)  # Compute realizations of arrivals\n",
    "    demand.mat = matrix(0, n, 3) # Initalize a matrix\n",
    "    i = 1\n",
    "    for (a in arrivals) {\n",
    "        demand.mat[i, ] = t(matrix(table(sim.bread(a)))) # Add one realization to matrix\n",
    "        i = i + 1\n",
    "    }   \n",
    "    demand = data.frame(demand.mat)\n",
    "    names(demand) = c('multigrain', 'wheat', 'white')\n",
    "    demand\n",
    "} \n",
    "sim.demand(100, 10)"
   ]
  },
  {
   "cell_type": "code",
   "execution_count": 32,
   "metadata": {
    "collapsed": false
   },
   "outputs": [
    {
     "data": {
      "text/html": [
       "<table>\n",
       "<thead><tr><th scope=col>multigrain</th><th scope=col>wheat</th><th scope=col>white</th></tr></thead>\n",
       "<tbody>\n",
       "\t<tr><td>3</td><td>3</td><td>6</td></tr>\n",
       "</tbody>\n",
       "</table>\n"
      ],
      "text/latex": [
       "\\begin{tabular}{lll}\n",
       " multigrain & wheat & white\\\\\n",
       "\\hline\n",
       "\t 3 & 3 & 6\\\\\n",
       "\\end{tabular}\n"
      ],
      "text/markdown": [
       "\n",
       "multigrain | wheat | white | \n",
       "|---|\n",
       "| 3 | 3 | 6 | \n",
       "\n",
       "\n"
      ],
      "text/plain": [
       "     multigrain wheat white\n",
       "[1,] 3          3     6    "
      ]
     },
     "metadata": {},
     "output_type": "display_data"
    }
   ],
   "source": [
    "baked.bread = function(n){\n",
    "    baked = c(rep('white', times =n/2), \n",
    "             rep('wheat', times = n/4),\n",
    "             rep('multi', times =n/4))\n",
    "    baked = data.frame(table(baked))[, 2]\n",
    "    names(baked) = c('multigrain', 'wheat', 'white')\n",
    "    t(baked)\n",
    "}\n",
    "baked.bread(12)"
   ]
  },
  {
   "cell_type": "code",
   "execution_count": 33,
   "metadata": {
    "collapsed": false
   },
   "outputs": [
    {
     "data": {
      "text/html": [
       "<table>\n",
       "<thead><tr><th scope=col>profit</th><th scope=col>demand.multigrain</th><th scope=col>demand.wheat</th><th scope=col>demand.white</th><th scope=col>bread.multigrain</th><th scope=col>bread.wheat</th><th scope=col>bread.white</th></tr></thead>\n",
       "<tbody>\n",
       "\t<tr><td>70</td><td>23</td><td>30</td><td>47</td><td>25</td><td>25</td><td>50</td></tr>\n",
       "\t<tr><td>58</td><td>24</td><td>19</td><td>40</td><td>25</td><td>25</td><td>50</td></tr>\n",
       "\t<tr><td>74</td><td>39</td><td>24</td><td>59</td><td>25</td><td>25</td><td>50</td></tr>\n",
       "\t<tr><td>70</td><td>23</td><td>23</td><td>49</td><td>25</td><td>25</td><td>50</td></tr>\n",
       "\t<tr><td>59</td><td>15</td><td>27</td><td>44</td><td>25</td><td>25</td><td>50</td></tr>\n",
       "\t<tr><td>69</td><td>19</td><td>28</td><td>51</td><td>25</td><td>25</td><td>50</td></tr>\n",
       "\t<tr><td>73</td><td>27</td><td>33</td><td>48</td><td>25</td><td>25</td><td>50</td></tr>\n",
       "\t<tr><td>64</td><td>20</td><td>19</td><td>65</td><td>25</td><td>25</td><td>50</td></tr>\n",
       "\t<tr><td>65</td><td>20</td><td>29</td><td>45</td><td>25</td><td>25</td><td>50</td></tr>\n",
       "\t<tr><td>64</td><td>29</td><td>29</td><td>39</td><td>25</td><td>25</td><td>50</td></tr>\n",
       "</tbody>\n",
       "</table>\n"
      ],
      "text/latex": [
       "\\begin{tabular}{r|lllllll}\n",
       " profit & demand.multigrain & demand.wheat & demand.white & bread.multigrain & bread.wheat & bread.white\\\\\n",
       "\\hline\n",
       "\t 70 & 23 & 30 & 47 & 25 & 25 & 50\\\\\n",
       "\t 58 & 24 & 19 & 40 & 25 & 25 & 50\\\\\n",
       "\t 74 & 39 & 24 & 59 & 25 & 25 & 50\\\\\n",
       "\t 70 & 23 & 23 & 49 & 25 & 25 & 50\\\\\n",
       "\t 59 & 15 & 27 & 44 & 25 & 25 & 50\\\\\n",
       "\t 69 & 19 & 28 & 51 & 25 & 25 & 50\\\\\n",
       "\t 73 & 27 & 33 & 48 & 25 & 25 & 50\\\\\n",
       "\t 64 & 20 & 19 & 65 & 25 & 25 & 50\\\\\n",
       "\t 65 & 20 & 29 & 45 & 25 & 25 & 50\\\\\n",
       "\t 64 & 29 & 29 & 39 & 25 & 25 & 50\\\\\n",
       "\\end{tabular}\n"
      ],
      "text/markdown": [
       "\n",
       "profit | demand.multigrain | demand.wheat | demand.white | bread.multigrain | bread.wheat | bread.white | \n",
       "|---|---|---|---|---|---|---|---|---|---|\n",
       "| 70 | 23 | 30 | 47 | 25 | 25 | 50 | \n",
       "| 58 | 24 | 19 | 40 | 25 | 25 | 50 | \n",
       "| 74 | 39 | 24 | 59 | 25 | 25 | 50 | \n",
       "| 70 | 23 | 23 | 49 | 25 | 25 | 50 | \n",
       "| 59 | 15 | 27 | 44 | 25 | 25 | 50 | \n",
       "| 69 | 19 | 28 | 51 | 25 | 25 | 50 | \n",
       "| 73 | 27 | 33 | 48 | 25 | 25 | 50 | \n",
       "| 64 | 20 | 19 | 65 | 25 | 25 | 50 | \n",
       "| 65 | 20 | 29 | 45 | 25 | 25 | 50 | \n",
       "| 64 | 29 | 29 | 39 | 25 | 25 | 50 | \n",
       "\n",
       "\n"
      ],
      "text/plain": [
       "   profit demand.multigrain demand.wheat demand.white bread.multigrain\n",
       "1  70     23                30           47           25              \n",
       "2  58     24                19           40           25              \n",
       "3  74     39                24           59           25              \n",
       "4  70     23                23           49           25              \n",
       "5  59     15                27           44           25              \n",
       "6  69     19                28           51           25              \n",
       "7  73     27                33           48           25              \n",
       "8  64     20                19           65           25              \n",
       "9  65     20                29           45           25              \n",
       "10 64     29                29           39           25              \n",
       "   bread.wheat bread.white\n",
       "1  25          50         \n",
       "2  25          50         \n",
       "3  25          50         \n",
       "4  25          50         \n",
       "5  25          50         \n",
       "6  25          50         \n",
       "7  25          50         \n",
       "8  25          50         \n",
       "9  25          50         \n",
       "10 25          50         "
      ]
     },
     "metadata": {},
     "output_type": "display_data"
    }
   ],
   "source": [
    "sim.profit = function(n, lambda, earned, baked, cost){\n",
    "    bread = baked.bread(baked) # Amount of bread baked\n",
    "    demand = sim.demand(lambda, n) # Demand by type of bread\n",
    "    profit = matrix(0, n, 1) # Empty matrix for results\n",
    "    for (i in 1:3){  # Loop over each type of bread\n",
    "        temp = bread[i] - demand[, i]\n",
    "        profit = ifelse(temp >= 0,  # Did we have enough bread of this type?\n",
    "                        profit + earned * demand[, i] - cost * bread[i], # If yes, compute profit\n",
    "                        profit + (earned - cost) * bread[i]) # If no, limited by available bread\n",
    "    }\n",
    "    data.frame(profit = profit, demand = demand, bread = bread)\n",
    "}\n",
    "sim.profit(10, 100, 1.00, 100, .25)"
   ]
  },
  {
   "cell_type": "code",
   "execution_count": 36,
   "metadata": {
    "collapsed": false
   },
   "outputs": [
    {
     "name": "stderr",
     "output_type": "stream",
     "text": [
      "`stat_bin()` using `bins = 30`. Pick better value with `binwidth`.\n",
      "`stat_bin()` using `bins = 30`. Pick better value with `binwidth`.\n"
     ]
    },
    {
     "name": "stdout",
     "output_type": "stream",
     "text": [
      "TableGrob (2 x 1) \"arrange\": 2 grobs\n",
      "  z     cells    name           grob\n",
      "1 1 (1-1,1-1) arrange gtable[layout]\n",
      "2 2 (2-2,1-1) arrange gtable[layout]\n"
     ]
    },
    {
     "data": {
      "text/plain": [
       "     profit           demand      \n",
       " Min.   :-59.00   Min.   : 66.00  \n",
       " 1st Qu.:-32.00   1st Qu.: 93.00  \n",
       " Median :-25.00   Median :100.00  \n",
       " Mean   :-25.08   Mean   : 99.92  \n",
       " 3rd Qu.:-18.00   3rd Qu.:107.00  \n",
       " Max.   : 17.00   Max.   :142.00  "
      ]
     },
     "metadata": {},
     "output_type": "display_data"
    },
    {
     "data": {
      "image/png": "[encoded data removed]",
      "text/plain": [
       "plot without title"
      ]
     },
     "metadata": {},
     "output_type": "display_data"
    }
   ],
   "source": [
    "plot.demand = function(demand){\n",
    "    require(ggplot2)\n",
    "    require(gridExtra)\n",
    "    demand$demand = apply(demand[, 2:4], 1, sum) # Compute the total demand\n",
    "    p1 = ggplot(demand, aes(demand)) + geom_histogram() +\n",
    "         ggtitle('Histogram of demand for sandwiches')\n",
    "    p2 = ggplot(demand, aes(profit)) + geom_histogram() +\n",
    "         ggtitle('Histogram of profit from sandwiches')\n",
    "    print(grid.arrange(p1, p2, nrow = 2))\n",
    "    summary(demand[, c(1, 8)])\n",
    "}\n",
    "demand = sim.profit(10000, 100, 1.00, 500, .25)\n",
    "plot.demand(demand)"
   ]
  },
  {
   "cell_type": "code",
   "execution_count": null,
   "metadata": {
    "collapsed": true
   },
   "outputs": [],
   "source": []
  }
 ],
 "metadata": {
  "anaconda-cloud": {},
  "kernelspec": {
   "display_name": "R",
   "language": "R",
   "name": "ir"
  },
  "language_info": {
   "codemirror_mode": "r",
   "file_extension": ".r",
   "mimetype": "text/x-r-source",
   "name": "R",
   "pygments_lexer": "r",
   "version": "3.3.1"
  }
 },
 "nbformat": 4,
 "nbformat_minor": 1
}
