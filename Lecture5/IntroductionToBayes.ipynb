{
 "cells": [
  {
   "cell_type": "markdown",
   "metadata": {},
   "source": [
    "# Introduction to Bayes Models\n",
    "\n",
    "### Data Science 350\n",
    "### Stephen Elston\n",
    "\n",
    "## Introduction\n",
    "\n",
    "Modern Baysian models are in the class of compuationally intensive models. Bayesian models are a rich class of models, which can provide attractive alternatives to frequentist models. \n",
    "\n",
    "![**A Baysian would win this bet**](img/Sun.png)\n",
    "**A Baysian would win this bet**\n",
    "\n",
    "## Brief history\n",
    "\n",
    "A restricted version of Bayes Theorem was proposed by Rev.Thomas Bayes (1702-1761). Bayes Theorem, was published postumously by his friend Richard Price. Bayes' interest was in probabilities of gambling games. He was also a supporter of Isac Newton's new theory of calculus, with his publication, &An Introduction to the Doctrine of Fluxions, and a Defence of the Mathematicians Against the Objections of the Author of The Analyst*.\n",
    "\n",
    "![](img/ThomasBayes.gif)\n",
    "\n",
    "A version of Bayes Theorem which in its modern form was published by Pierre-Simon Laplace in Essai philosophique sur les probabilités 1814. Laplace applied Baysian methods to problems in celestial mechanics. These problems had great practical implicatons in the late 18th and early 19th centuries for the safe navigaton of ships. \n",
    " \n",
    "![](img/Laplace.jpg)\n",
    "\n",
    "The geophysicist and mathemtician Harold Jefferys extensively used Bayes' methods. His 1939 book, *The Theory of Probability* was in deliberate opposition to Fisher's methods using p-values.\n",
    "\n",
    "![](img/JeffreysProbability.jpg)\n",
    "\n",
    "The battle between Fisher, Jefferys and their protégés continued for most of the 20th century. This battle was bitter and often personal. The core of the argument was:\n",
    "\n",
    "- Fisher argued that the selection of a Bayesian prior distribution was purely subjective, allowing one to achieve any answer desired.\n",
    "- Jefferys argued that all knowledge is in fact subjective, and that choosing a confidence interval was subjective in any event.\n",
    "\n",
    "Dispite these philosophical squables, Baysian methods endured and showed an increasing number of success stories. Pragmatists continued to use both approaches. A number of success during the Second World War, with the philosophical battles raging, included:\n",
    "\n",
    "- Bayesian models were used to improve artillery accuracy in both world wars. In particular the Soviet statistian Kolmagorov used Bayes methods to greatly improve artillery accuracy. \n",
    "- Bayesian models used by Alan Turing to break German codes.\n",
    "- Bernard Koopman, working for the British Royal Navy, improved the ability to locate U-boats using directional data from intercepted radio transmissions. \n",
    "\n",
    "\n",
    "Starting in the second half of the 20th century the convergance of greater computing power and general acceptance lead to the following notable advances in computational Baysian methods.\n",
    "\n",
    "- Statistical sampling using Monte Carlo methods; stanislaw ulam, John von Neuman; 1946, 1947\n",
    "- MCMC - Metropolis et al. (1953) Journal of Chemical Physics\n",
    "- Hastings (1970) ; Monte Carlo sampling methods using Markov chains and their application\n",
    "- Geman and Geman (1984) Stochastic relaxation, Gibbs distributions and the Bayesian restoration of images\n",
    "- Duane, Kennedy, Pendleton, and Roweth (1987)  Hamiltonian MCMC\n",
    "- Gelfand and Smith (1990) Sampling-based approaches to calculating marginal densities.\n",
    "\n"
   ]
  },
  {
   "cell_type": "markdown",
   "metadata": {
    "collapsed": true
   },
   "source": [
    "## Baysian vs. Frequentist Views\n",
    "\n",
    "With greater compuational power and general acceptance, Bayes methods are now widely used in areas ranging from medical research to natural language understanding to web search. Amoung pragmatists, the common belief today is that some problems are better handled by Frequentist methods and some with Bayesian methods.\n",
    "\n",
    "Let's summarize the differences between the Baysian and Frequentist views. \n",
    "\n",
    "- Bayesian methods use priors to quantify what we know about parameters.\n",
    "- Frequentists do not quantify anything about the parameters, using p-values and confidence intervals to express the unknowns about parameters.\n",
    "\n",
    "Recalling that both views are useful, we can contrast these methods with a chart.\n",
    "\n",
    "![](img/FrequentistBayes.jpg)"
   ]
  },
  {
   "cell_type": "markdown",
   "metadata": {},
   "source": [
    "## Bayes Theorm\n",
    "\n",
    "Let's go through a simple derivation of Baye's theorm. Remember the rule for conditional probability:\n",
    "\n",
    "$$P(A|B) = \\frac{P(A \\cap B}{p(B)}\\\\\n",
    "And\\\\\n",
    "P(B|A) = \\frac{P(A \\cap B)}{p(A)}$$\n",
    "\n",
    "Eliminating $P(A \\cap B):$\n",
    "\n",
    "$$ P(B)P(A|B) = P(A)P(B|A) \\\\\n",
    "Or\\\\\n",
    "P(A|B) = \\frac{P(A)P(B|A)}{P(B)}$$\n",
    "\n",
    "Which is Bayes' Theorm!"
   ]
  },
  {
   "cell_type": "markdown",
   "metadata": {},
   "source": [
    "### Example, medical test\n",
    "\n",
    "Let's work out the conditional probabilities for a medical test which has an accurcy of 99% for a very rare disease with a probability of occurance of 0.0003125. We can work out the contitonal probability tree as shown below.\n",
    "\n",
    "![](img/Medical.jpg)\n",
    "\n",
    "Let's apply Bayes Theorm to this problem. What we want to know is the chance someone actually has the disease given a positve test.\n",
    "\n",
    "$$ P(A|B) = \\frac{P(A)P(B|A)}{P(B)} \\\\\n",
    "P(Disease|Test+) = P(Test+|Disease) \\frac{P(Disease)}{P(Test+)}$$\n",
    "\n",
    "**Your Turn:** Compute the conditional probability of having the disease given a positive test. Hint, the probability of a positive test is the sum of the probability of a positive test given the disease and the probability of an erronious test given no disease. "
   ]
  },
  {
   "cell_type": "code",
   "execution_count": 24,
   "metadata": {
    "collapsed": false
   },
   "outputs": [
    {
     "data": {
      "text/html": [
       "0.030018192844148"
      ],
      "text/latex": [
       "0.030018192844148"
      ],
      "text/markdown": [
       "0.030018192844148"
      ],
      "text/plain": [
       "[1] 0.03001819"
      ]
     },
     "metadata": {},
     "output_type": "display_data"
    }
   ],
   "source": [
    ".99 * 0.0003125 /(.99 * 0.0003125 + .01 * (1 - 0.0003125))"
   ]
  },
  {
   "cell_type": "markdown",
   "metadata": {},
   "source": [
    "### Example, probabilities of eye and hair color\n",
    "\n",
    "A sample population has the following probabilities of eye and hair color combinations."
   ]
  },
  {
   "cell_type": "code",
   "execution_count": 9,
   "metadata": {
    "collapsed": false
   },
   "outputs": [
    {
     "data": {
      "text/html": [
       "<table>\n",
       "<thead><tr><th></th><th scope=col>Black</th><th scope=col>Brunette</th><th scope=col>Red</th><th scope=col>Blond</th></tr></thead>\n",
       "<tbody>\n",
       "\t<tr><th scope=row>Brown</th><td>0.11</td><td>0.20</td><td>0.04</td><td>0.01</td></tr>\n",
       "\t<tr><th scope=row>Blue</th><td>0.03</td><td>0.14</td><td>0.03</td><td>0.16</td></tr>\n",
       "\t<tr><th scope=row>Hazel</th><td>0.03</td><td>0.09</td><td>0.02</td><td>0.02</td></tr>\n",
       "\t<tr><th scope=row>Green</th><td>0.01</td><td>0.05</td><td>0.02</td><td>0.03</td></tr>\n",
       "</tbody>\n",
       "</table>\n"
      ],
      "text/latex": [
       "\\begin{tabular}{r|llll}\n",
       "  & Black & Brunette & Red & Blond\\\\\n",
       "\\hline\n",
       "\tBrown & 0.11 & 0.20 & 0.04 & 0.01\\\\\n",
       "\tBlue & 0.03 & 0.14 & 0.03 & 0.16\\\\\n",
       "\tHazel & 0.03 & 0.09 & 0.02 & 0.02\\\\\n",
       "\tGreen & 0.01 & 0.05 & 0.02 & 0.03\\\\\n",
       "\\end{tabular}\n"
      ],
      "text/markdown": [
       "\n",
       "| <!--/--> | Black | Brunette | Red | Blond | \n",
       "|---|---|---|---|\n",
       "| Brown | 0.11 | 0.20 | 0.04 | 0.01 | \n",
       "| Blue | 0.03 | 0.14 | 0.03 | 0.16 | \n",
       "| Hazel | 0.03 | 0.09 | 0.02 | 0.02 | \n",
       "| Green | 0.01 | 0.05 | 0.02 | 0.03 | \n",
       "\n",
       "\n"
      ],
      "text/plain": [
       "      Black Brunette Red  Blond\n",
       "Brown 0.11  0.20     0.04 0.01 \n",
       "Blue  0.03  0.14     0.03 0.16 \n",
       "Hazel 0.03  0.09     0.02 0.02 \n",
       "Green 0.01  0.05     0.02 0.03 "
      ]
     },
     "metadata": {},
     "output_type": "display_data"
    }
   ],
   "source": [
    "eyeHair = data.frame(Black = c(0.11, 0.03, 0.03, 0.01), \n",
    "                     Brunette = c(0.2, 0.14, 0.09, 0.05),\n",
    "                     Red = c(0.04, 0.03, 0.02, 0.02),\n",
    "                     Blond = c(0.01, 0.16, 0.02, 0.03))\n",
    "row.names(eyeHair) = c('Brown', 'Blue', 'Hazel', 'Green')\n",
    "eyeHair"
   ]
  },
  {
   "cell_type": "markdown",
   "metadata": {},
   "source": [
    "The figure in the table above are the conditmional probabilities. Note that in the case $P(hair|eye) = P(eye|hair)$. \n",
    "\n",
    "Given these probabilities joint probabilities, it is easy to compute the marginal probabilities by summing the probabilities in the rows and columns. THe **Marginal probability** is the probability of along one variable (one margin) of the distribution. For example, $P(Red)$ or $P(Green)$."
   ]
  },
  {
   "cell_type": "code",
   "execution_count": 10,
   "metadata": {
    "collapsed": false
   },
   "outputs": [
    {
     "data": {
      "text/html": [
       "<table>\n",
       "<thead><tr><th></th><th scope=col>Black</th><th scope=col>Brunette</th><th scope=col>Red</th><th scope=col>Blond</th><th scope=col>Marginal_eye</th></tr></thead>\n",
       "<tbody>\n",
       "\t<tr><th scope=row>Brown</th><td>0.11</td><td>0.20</td><td>0.04</td><td>0.01</td><td>0.36</td></tr>\n",
       "\t<tr><th scope=row>Blue</th><td>0.03</td><td>0.14</td><td>0.03</td><td>0.16</td><td>0.36</td></tr>\n",
       "\t<tr><th scope=row>Hazel</th><td>0.03</td><td>0.09</td><td>0.02</td><td>0.02</td><td>0.16</td></tr>\n",
       "\t<tr><th scope=row>Green</th><td>0.01</td><td>0.05</td><td>0.02</td><td>0.03</td><td>0.11</td></tr>\n",
       "\t<tr><th scope=row>Marginal_hair</th><td>0.18</td><td>0.48</td><td>0.11</td><td>0.22</td><td>0.99</td></tr>\n",
       "</tbody>\n",
       "</table>\n"
      ],
      "text/latex": [
       "\\begin{tabular}{r|lllll}\n",
       "  & Black & Brunette & Red & Blond & Marginal\\_eye\\\\\n",
       "\\hline\n",
       "\tBrown & 0.11 & 0.20 & 0.04 & 0.01 & 0.36\\\\\n",
       "\tBlue & 0.03 & 0.14 & 0.03 & 0.16 & 0.36\\\\\n",
       "\tHazel & 0.03 & 0.09 & 0.02 & 0.02 & 0.16\\\\\n",
       "\tGreen & 0.01 & 0.05 & 0.02 & 0.03 & 0.11\\\\\n",
       "\tMarginal\\_hair & 0.18 & 0.48 & 0.11 & 0.22 & 0.99\\\\\n",
       "\\end{tabular}\n"
      ],
      "text/markdown": [
       "\n",
       "| <!--/--> | Black | Brunette | Red | Blond | Marginal_eye | \n",
       "|---|---|---|---|---|\n",
       "| Brown | 0.11 | 0.20 | 0.04 | 0.01 | 0.36 | \n",
       "| Blue | 0.03 | 0.14 | 0.03 | 0.16 | 0.36 | \n",
       "| Hazel | 0.03 | 0.09 | 0.02 | 0.02 | 0.16 | \n",
       "| Green | 0.01 | 0.05 | 0.02 | 0.03 | 0.11 | \n",
       "| Marginal_hair | 0.18 | 0.48 | 0.11 | 0.22 | 0.99 | \n",
       "\n",
       "\n"
      ],
      "text/plain": [
       "              Black Brunette Red  Blond Marginal_eye\n",
       "Brown         0.11  0.20     0.04 0.01  0.36        \n",
       "Blue          0.03  0.14     0.03 0.16  0.36        \n",
       "Hazel         0.03  0.09     0.02 0.02  0.16        \n",
       "Green         0.01  0.05     0.02 0.03  0.11        \n",
       "Marginal_hair 0.18  0.48     0.11 0.22  0.99        "
      ]
     },
     "metadata": {},
     "output_type": "display_data"
    }
   ],
   "source": [
    "## Compute the marginal distribution of hair color and eye color\n",
    "eyeHair = rbind(eyeHair, apply(eyeHair, 2, sum))\n",
    "eyeHair$Marginal_eye = apply(eyeHair, 1, sum)\n",
    "row.names(eyeHair) = c('Brown', 'Blue', 'Hazel', 'Green', 'Marginal_hair')\n",
    "eyeHair"
   ]
  },
  {
   "cell_type": "markdown",
   "metadata": {},
   "source": [
    "**Your Turn:** Use Bayes Theorm to compute the probability of each eye color given that the subject has blue eyes; $P(Hair\\ Color|Blue\\ Eyes)$. Hint, this is a bit tricky since $P(hair\\ color) = 1$ across all colors. "
   ]
  },
  {
   "cell_type": "code",
   "execution_count": 20,
   "metadata": {
    "collapsed": false
   },
   "outputs": [
    {
     "data": {
      "text/html": [
       "<table>\n",
       "<thead><tr><th></th><th scope=col>Black</th><th scope=col>Brunette</th><th scope=col>Red</th><th scope=col>Blond</th><th scope=col>Marginal_eye</th></tr></thead>\n",
       "<tbody>\n",
       "\t<tr><th scope=row>Blue</th><td>0.08333333</td><td>0.3888889 </td><td>0.08333333</td><td>0.4444444 </td><td>1         </td></tr>\n",
       "</tbody>\n",
       "</table>\n"
      ],
      "text/latex": [
       "\\begin{tabular}{r|lllll}\n",
       "  & Black & Brunette & Red & Blond & Marginal\\_eye\\\\\n",
       "\\hline\n",
       "\tBlue & 0.08333333 & 0.3888889  & 0.08333333 & 0.4444444  & 1         \\\\\n",
       "\\end{tabular}\n"
      ],
      "text/markdown": [
       "\n",
       "| <!--/--> | Black | Brunette | Red | Blond | Marginal_eye | \n",
       "|---|\n",
       "| Blue | 0.08333333 | 0.3888889  | 0.08333333 | 0.4444444  | 1          | \n",
       "\n",
       "\n"
      ],
      "text/plain": [
       "     Black      Brunette  Red        Blond     Marginal_eye\n",
       "Blue 0.08333333 0.3888889 0.08333333 0.4444444 1           "
      ]
     },
     "metadata": {},
     "output_type": "display_data"
    }
   ],
   "source": [
    "temp = eyeHair['Blue',] / eyeHair['Blue', 'Marginal_eye']\n",
    "temp"
   ]
  },
  {
   "cell_type": "markdown",
   "metadata": {},
   "source": [
    "## Applying Bayes Theorm\n",
    "\n",
    "We need a formulation of Bayes Theorm which is convienient to use for compuational problems. Specifically, we don't want to be stuck summing all of the possiblilites to compute $P(B)$. \n",
    "\n",
    "Look at some fun facts about conditional probabilities. \n",
    "\n",
    "$$\n",
    "𝑃(𝐵 \\cap A) = 𝑃(𝐵│𝐴)𝑃(𝐴) \\\\\n",
    "And \\\\\n",
    "𝑃(𝐵)=𝑃(𝐵 \\cap 𝐴)+𝑃(𝐵 \\cap \\bar{𝐴}) \\\\\n",
    "Then \\\\\n",
    "𝑃(𝐵)=𝑃(𝐵│𝐴)𝑃(𝐴)+𝑃(𝐵│ \\bar{𝐴})𝑃(\\bar{𝐴}) \\\\\n",
    "where \\\\\n",
    "\\bar{A} = Not\\ A\n",
    "$$\n",
    "\n",
    "We can now rewrite Bayes Theorm:\n",
    "\n",
    "$$ P(A|B) = \\frac{P(A)P(B|A)}{𝑃(𝐵│𝐴)𝑃(𝐴)+𝑃(𝐵│ \\bar{𝐴})𝑃(\\bar{𝐴})} \\\\ $$\n",
    "\n",
    "This is a bit of a mess. But fortunately, we don't always need the denominator, in which case we are just look at the un-normalized distribution:\n",
    "\n",
    "$$𝑃(𝐴│𝐵)=𝑘∙𝑃(𝐵|𝐴)𝑃(𝐴)$$\n",
    "\n",
    "Ignoring the normalizaton constant $k$, we get:\n",
    "\n",
    "$$𝑃(𝐴│𝐵) \\propto 𝑃(𝐵|𝐴)𝑃(𝐴)$$\n",
    "\n",
    "### Applying the simplifed relationship Bayes Theorm\n",
    "\n",
    "How to we interpret the relationships shown above? We do this as follows:\n",
    "\n",
    "$$Posterior\\ Distribution \\propto Likelihood \\bullet Prior\\ Distribution \\\\\n",
    "Or\\\\\n",
    "𝑃(𝑝𝑎𝑟𝑎𝑚𝑒𝑡𝑒𝑟𝑠│𝑑𝑎𝑡𝑎) \\propto 𝑃(𝑑𝑎𝑡𝑎|𝑝𝑎𝑟𝑎𝑚𝑒𝑡𝑒𝑟𝑠)𝑃(𝑝𝑎𝑟𝑎𝑚𝑒𝑡𝑒𝑟𝑠) $$\n",
    "\n",
    "These relationships apply to data distributions or to parameters in a model (partial slopes, intercept, error distributions, lasso constant,…) and the observed data. \n",
    "\n",
    "### Creating Bayes models\n",
    "\n",
    "Given prior assumption about the behavior of the parameters (the prior), produce a model which tells us the probability of observing our data, to compute new probability of our parameters. Given this, the steps for working with a \n",
    "\n",
    "- Identify data relevant to the research question. E.g.: what are the measurement scales of the data?\n",
    "- Define a descriptive model for the data. For example, pick a linear model formula.\n",
    "- Specify a prior distribution of the parameters. For example, we think the error in the linear model is Normally distributed as $N(\\Theta,\\sigma^2)$.\n",
    "- Use the Bayesian inference formula (above) to re-assess parameter probabilities.\n",
    "- Update if more data is observed. This is key. Baysian models natural update as more data is added, a form of learning.\n",
    "\n",
    "\n",
    "### How do we choose a prior\n",
    "\n",
    "The choice of the prior is a serious problem when performing Bayesian analysis.In general, a prior must be convincing to a **sceptical audience**. Some possible approches include:\n",
    "\n",
    "- Prior observations\n",
    "- Domain knowledge\n",
    "- If poor knowledge use less informative prior\n",
    "- **Watch out:** A uniform prior is informative. For exampe, you must set the limits on range of values\n",
    " \n",
    "One analytically and compuationally simple choice is a **conjugate prior**. When a likelihood is multiplied by a conjugate prior the distribution of the postirior is the same as the likelihood. Most named distributions have conjugates. A few commonly used eamples are shown in the table below:\n",
    "\n",
    "Likelihood | Conjugate\n",
    "---|---\n",
    "Binomial|Beta\n",
    "Bernoulli|Beta\n",
    "Poisson|Gamma\n",
    "Categorical|Dirichlet\n",
    "Normal| Normal, Inverse Gama\n",
    "\n"
   ]
  },
  {
   "cell_type": "code",
   "execution_count": 25,
   "metadata": {
    "collapsed": false
   },
   "outputs": [
    {
     "data": {
      "text/html": [
       "<table>\n",
       "<tbody>\n",
       "\t<tr><td>NULL</td><td>NULL</td><td>NULL</td><td>NULL</td><td>NULL</td></tr>\n",
       "\t<tr><td>NULL</td><td>NULL</td><td>NULL</td><td>NULL</td><td>NULL</td></tr>\n",
       "\t<tr><td>NULL</td><td>NULL</td><td>NULL</td><td>NULL</td><td>NULL</td></tr>\n",
       "\t<tr><td>NULL</td><td>NULL</td><td>NULL</td><td>NULL</td><td>NULL</td></tr>\n",
       "\t<tr><td>NULL</td><td>NULL</td><td>NULL</td><td>NULL</td><td>NULL</td></tr>\n",
       "</tbody>\n",
       "</table>\n"
      ],
      "text/latex": [
       "\\begin{tabular}{lllll}\n",
       "\t NULL & NULL & NULL & NULL & NULL\\\\\n",
       "\t NULL & NULL & NULL & NULL & NULL\\\\\n",
       "\t NULL & NULL & NULL & NULL & NULL\\\\\n",
       "\t NULL & NULL & NULL & NULL & NULL\\\\\n",
       "\t NULL & NULL & NULL & NULL & NULL\\\\\n",
       "\\end{tabular}\n"
      ],
      "text/markdown": [
       "\n",
       "| NULL | NULL | NULL | NULL | NULL | \n",
       "| NULL | NULL | NULL | NULL | NULL | \n",
       "| NULL | NULL | NULL | NULL | NULL | \n",
       "| NULL | NULL | NULL | NULL | NULL | \n",
       "| NULL | NULL | NULL | NULL | NULL | \n",
       "\n",
       "\n"
      ],
      "text/plain": [
       "     [,1] [,2] [,3] [,4] [,5]\n",
       "[1,] NULL NULL NULL NULL NULL\n",
       "[2,] NULL NULL NULL NULL NULL\n",
       "[3,] NULL NULL NULL NULL NULL\n",
       "[4,] NULL NULL NULL NULL NULL\n",
       "[5,] NULL NULL NULL NULL NULL"
      ]
     },
     "metadata": {},
     "output_type": "display_data"
    },
    {
     "data": {
      "image/png": "[encoded data removed]",
      "text/plain": [
       "Plot with title \"(a,b)=( 4 , 4 )\""
      ]
     },
     "metadata": {},
     "output_type": "display_data"
    }
   ],
   "source": [
    "alpha = c(0.5,1,2,3,4)\n",
    "beta = alpha\n",
    "x = seq(0.001,0.999,length=100)\n",
    "\n",
    "par(mfrow = c(5,5), mar=c(2,1,2,1)) # mar = c(bottom, left, top, right)\n",
    "sapply(alpha, function(a){\n",
    "  sapply(beta, function(b){\n",
    "    plot_title = paste(\"(a,b)=(\",a,\",\",b,\")\")\n",
    "    plot(x,dbeta(x,a,b),xlab=\"\",ylab=\"\",\n",
    "         main=plot_title, type=\"l\", lwd=2)\n",
    "  })\n",
    "})\n",
    "\n",
    "# Set plot options back to normal\n",
    "par(mar=c(5.1,4.1,4.1,2.1), mfrow=c(1,1))"
   ]
  },
  {
   "cell_type": "code",
   "execution_count": 26,
   "metadata": {
    "collapsed": false
   },
   "outputs": [
    {
     "name": "stderr",
     "output_type": "stream",
     "text": [
      "Warning message:\n",
      "\"package 'LearnBayes' was built under R version 3.3.2\"\n",
      "Attaching package: 'LearnBayes'\n",
      "\n",
      "The following object is masked from 'package:dplyr':\n",
      "\n",
      "    regroup\n",
      "\n"
     ]
    },
    {
     "data": {
      "text/html": [
       "<ol class=list-inline>\n",
       "\t<li>2.95</li>\n",
       "\t<li>10.82</li>\n",
       "</ol>\n"
      ],
      "text/latex": [
       "\\begin{enumerate*}\n",
       "\\item 2.95\n",
       "\\item 10.82\n",
       "\\end{enumerate*}\n"
      ],
      "text/markdown": [
       "1. 2.95\n",
       "2. 10.82\n",
       "\n",
       "\n"
      ],
      "text/plain": [
       "[1]  2.95 10.82"
      ]
     },
     "metadata": {},
     "output_type": "display_data"
    }
   ],
   "source": [
    "library(LearnBayes)\n",
    "## I think the chance of rain is 0.2 with\n",
    "## with a probability at the 75% point of 0.28\n",
    "## Compute my Beta prior\n",
    "beta.par <- beta.select(list(p=0.5, x=0.2), list(p=0.75, x=.28))\n",
    "beta.par ## The parameters of my Beta distribution"
   ]
  },
  {
   "cell_type": "code",
   "execution_count": 29,
   "metadata": {
    "collapsed": false
   },
   "outputs": [
    {
     "data": {
      "text/html": [
       "<ol class=list-inline>\n",
       "\t<li>8.95</li>\n",
       "\t<li>14.82</li>\n",
       "</ol>\n"
      ],
      "text/latex": [
       "\\begin{enumerate*}\n",
       "\\item 8.95\n",
       "\\item 14.82\n",
       "\\end{enumerate*}\n"
      ],
      "text/markdown": [
       "1. 8.95\n",
       "2. 14.82\n",
       "\n",
       "\n"
      ],
      "text/plain": [
       "[1]  8.95 14.82"
      ]
     },
     "metadata": {},
     "output_type": "display_data"
    },
    {
     "data": {
      "text/html": [
       "<ol class=list-inline>\n",
       "\t<li>14.95</li>\n",
       "\t<li>18.82</li>\n",
       "</ol>\n"
      ],
      "text/latex": [
       "\\begin{enumerate*}\n",
       "\\item 14.95\n",
       "\\item 18.82\n",
       "\\end{enumerate*}\n"
      ],
      "text/markdown": [
       "1. 14.95\n",
       "2. 18.82\n",
       "\n",
       "\n"
      ],
      "text/plain": [
       "[1] 14.95 18.82"
      ]
     },
     "metadata": {},
     "output_type": "display_data"
    },
    {
     "data": {
      "text/html": [
       "<ol class=list-inline>\n",
       "\t<li>26.95</li>\n",
       "\t<li>26.82</li>\n",
       "</ol>\n"
      ],
      "text/latex": [
       "\\begin{enumerate*}\n",
       "\\item 26.95\n",
       "\\item 26.82\n",
       "\\end{enumerate*}\n"
      ],
      "text/markdown": [
       "1. 26.95\n",
       "2. 26.82\n",
       "\n",
       "\n"
      ],
      "text/plain": [
       "[1] 26.95 26.82"
      ]
     },
     "metadata": {},
     "output_type": "display_data"
    },
    {
     "data": {
      "text/html": [
       "<ol class=list-inline>\n",
       "\t<li>38.95</li>\n",
       "\t<li>34.82</li>\n",
       "</ol>\n"
      ],
      "text/latex": [
       "\\begin{enumerate*}\n",
       "\\item 38.95\n",
       "\\item 34.82\n",
       "\\end{enumerate*}\n"
      ],
      "text/markdown": [
       "1. 38.95\n",
       "2. 34.82\n",
       "\n",
       "\n"
      ],
      "text/plain": [
       "[1] 38.95 34.82"
      ]
     },
     "metadata": {},
     "output_type": "display_data"
    },
    {
     "data": {
      "image/png": "[encoded data removed]",
      "text/plain": [
       "Plot with title \"Bayes Triplot, beta( 2.95 , 10.82 ) prior, s= 36 , f= 24\""
      ]
     },
     "metadata": {},
     "output_type": "display_data"
    }
   ],
   "source": [
    "par(mfrow = c(4,1))\n",
    "beta.par + c(6, 4)\n",
    "triplot(beta.par, c(6, 4))\n",
    "beta.par + c(6 + 6, 4 + 4)\n",
    "triplot(beta.par, c(6 + 6, 4 + 4))\n",
    "beta.par + c(6 + 6 + 12, 4 + 4 + 8)\n",
    "triplot(beta.par, c(6 + 6 + 12, 4 + 4 + 8))\n",
    "beta.par + c(6 + 6 + 12 + 12, 4 + 4 + 8 +8)\n",
    "triplot(beta.par, c(6 + 6 + 12 + 12, 4 + 4 + 8 + 8))\n",
    "par(mfrow = c(1,1))"
   ]
  },
  {
   "cell_type": "code",
   "execution_count": 30,
   "metadata": {
    "collapsed": false
   },
   "outputs": [
    {
     "data": {
      "text/html": [
       "<dl class=dl-horizontal>\n",
       "\t<dt>5%</dt>\n",
       "\t\t<dd>0.434822609373507</dd>\n",
       "\t<dt>95%</dt>\n",
       "\t\t<dd>0.623464335095004</dd>\n",
       "</dl>\n"
      ],
      "text/latex": [
       "\\begin{description*}\n",
       "\\item[5\\textbackslash{}\\%] 0.434822609373507\n",
       "\\item[95\\textbackslash{}\\%] 0.623464335095004\n",
       "\\end{description*}\n"
      ],
      "text/markdown": [
       "5%\n",
       ":   0.43482260937350795%\n",
       ":   0.623464335095004\n",
       "\n"
      ],
      "text/plain": [
       "       5%       95% \n",
       "0.4348226 0.6234643 "
      ]
     },
     "metadata": {},
     "output_type": "display_data"
    },
    {
     "data": {
      "image/png": "[encoded data removed]",
      "text/plain": [
       "Plot with title \"Normal Q-Q Plot\""
      ]
     },
     "metadata": {},
     "output_type": "display_data"
    }
   ],
   "source": [
    "# Simulate from the posterior and \n",
    "## compute confidence intervals\n",
    "beta.post.par <- beta.par + c(6 + 6 + 12 + 12, 4 + 4 + 8 + 8)\n",
    "post.sample <- rbeta(10000, beta.post.par[1], beta.post.par[2])\n",
    "par(mfrow = c(1,2))\n",
    "quants = quantile(post.sample, c(0.05, 0.95))\n",
    "breaks = seq(min(post.sample), max(post.sample), length.out = 41)\n",
    "hist(post.sample, breaks = breaks, \n",
    "     main = 'Distribution of samples \\n with 90% HDI',\n",
    "     xlab = 'Sample value',\n",
    "     ylab = 'Density')\n",
    "abline(v = quants[1], lty = 3, col = 'red', lwd = 3)\n",
    "abline(v = quants[2], lty = 3, col = 'red', lwd = 3)\n",
    "qqnorm(post.sample)\n",
    "par(mfrow = c(1,1))\n",
    "quants"
   ]
  },
  {
   "cell_type": "code",
   "execution_count": 31,
   "metadata": {
    "collapsed": false
   },
   "outputs": [
    {
     "data": {
      "image/png": "[encoded data removed]",
      "text/plain": [
       "Plot with title \"Predictive Dist., beta( 2.95 , 10.82 ) prior, n= 38 , yobs= 22\""
      ]
     },
     "metadata": {},
     "output_type": "display_data"
    }
   ],
   "source": [
    "## Check on the model\n",
    "predplot(beta.par, 6 + 8 + 12 + 12, 4 + 2 + 8 + 8)"
   ]
  },
  {
   "cell_type": "code",
   "execution_count": 32,
   "metadata": {
    "collapsed": false
   },
   "outputs": [
    {
     "data": {
      "text/html": [
       "<dl>\n",
       "\t<dt>$prob</dt>\n",
       "\t\t<dd>0.914224319504126</dd>\n",
       "\t<dt>$set</dt>\n",
       "\t\t<dd><ol class=list-inline>\n",
       "\t<li>2</li>\n",
       "\t<li>3</li>\n",
       "\t<li>4</li>\n",
       "\t<li>5</li>\n",
       "\t<li>6</li>\n",
       "\t<li>7</li>\n",
       "\t<li>8</li>\n",
       "\t<li>9</li>\n",
       "\t<li>10</li>\n",
       "\t<li>11</li>\n",
       "\t<li>12</li>\n",
       "\t<li>13</li>\n",
       "\t<li>14</li>\n",
       "\t<li>15</li>\n",
       "\t<li>16</li>\n",
       "\t<li>17</li>\n",
       "\t<li>18</li>\n",
       "\t<li>19</li>\n",
       "\t<li>20</li>\n",
       "\t<li>21</li>\n",
       "\t<li>22</li>\n",
       "\t<li>23</li>\n",
       "\t<li>24</li>\n",
       "</ol>\n",
       "</dd>\n",
       "</dl>\n"
      ],
      "text/latex": [
       "\\begin{description}\n",
       "\\item[\\$prob] 0.914224319504126\n",
       "\\item[\\$set] \\begin{enumerate*}\n",
       "\\item 2\n",
       "\\item 3\n",
       "\\item 4\n",
       "\\item 5\n",
       "\\item 6\n",
       "\\item 7\n",
       "\\item 8\n",
       "\\item 9\n",
       "\\item 10\n",
       "\\item 11\n",
       "\\item 12\n",
       "\\item 13\n",
       "\\item 14\n",
       "\\item 15\n",
       "\\item 16\n",
       "\\item 17\n",
       "\\item 18\n",
       "\\item 19\n",
       "\\item 20\n",
       "\\item 21\n",
       "\\item 22\n",
       "\\item 23\n",
       "\\item 24\n",
       "\\end{enumerate*}\n",
       "\n",
       "\\end{description}\n"
      ],
      "text/markdown": [
       "$prob\n",
       ":   0.914224319504126\n",
       "$set\n",
       ":   1. 2\n",
       "2. 3\n",
       "3. 4\n",
       "4. 5\n",
       "5. 6\n",
       "6. 7\n",
       "7. 8\n",
       "8. 9\n",
       "9. 10\n",
       "10. 11\n",
       "11. 12\n",
       "12. 13\n",
       "13. 14\n",
       "14. 15\n",
       "15. 16\n",
       "16. 17\n",
       "17. 18\n",
       "18. 19\n",
       "19. 20\n",
       "20. 21\n",
       "21. 22\n",
       "22. 23\n",
       "23. 24\n",
       "\n",
       "\n",
       "\n",
       "\n",
       "\n"
      ],
      "text/plain": [
       "$prob\n",
       "[1] 0.9142243\n",
       "\n",
       "$set\n",
       " [1]  2  3  4  5  6  7  8  9 10 11 12 13 14 15 16 17 18 19 20 21 22 23 24\n"
      ]
     },
     "metadata": {},
     "output_type": "display_data"
    },
    {
     "data": {
      "image/png": "[encoded data removed]",
      "text/plain": [
       "Plot with title \"Probability distribution of success in trail\""
      ]
     },
     "metadata": {},
     "output_type": "display_data"
    }
   ],
   "source": [
    "## What is the probability of observing 0-8 successes in the\n",
    "## next 60 trials?\n",
    "n <- 60\n",
    "s <- 0:n\n",
    "pred.probs <- pbetap(beta.par, n, s)\n",
    "plot(s, pred.probs, type=\"h\", \n",
    "     main = 'Probability distribution of success in trail',\n",
    "     xlab = 'Successes')\n",
    "discint(cbind(s, pred.probs), 0.90)"
   ]
  },
  {
   "cell_type": "code",
   "execution_count": 34,
   "metadata": {
    "collapsed": false
   },
   "outputs": [
    {
     "data": {
      "image/png": "[encoded data removed]",
      "text/plain": [
       "Plot with title \"Posterior Distribution with N = 32 Z = 20 mu =  0.625\""
      ]
     },
     "metadata": {},
     "output_type": "display_data"
    }
   ],
   "source": [
    "##--- Discrete priors ------ \n",
    "#\n",
    "# Create a uniform prior\n",
    "p <- seq(0, 1, by = 0.01)\n",
    "prior <- 1 / 101 + 0 * p\n",
    "\n",
    "## With 20 successes and 12 failures find posterior\n",
    "library(LearnBayes)\n",
    "tries = c(20, 12)\n",
    "post <- pdisc(p, prior, tries)\n",
    "HCI = discint(cbind(p, post), 0.90) # 90 percent HCI\n",
    "\n",
    "## Plot the prior and posterior\n",
    "par(mfrow = c(2,1))\n",
    "plot(p, prior, type=\"h\",main=\"Posterior Distribution\")\n",
    "Main = paste(\"Posterior Distribution with N =\",\n",
    "             as.character(sum(tries)), 'Z =',\n",
    "             as.character(tries[1]),\n",
    "             'mu = ',\n",
    "             as.character(tries[1]/sum(tries)))\n",
    "plot(p, post, type=\"h\",main=Main)\n",
    "abline(v = HCI$set[1], lty = 3, col = 'red', lwd = 3)\n",
    "abline(v = HCI$set[length(HCI$set)], , lty = 3, col = 'red', lwd = 3)\n",
    "abline(v = tries[1]/sum(tries), col = 'red', lwd = 3)\n",
    "par(mfrow = c(1,1))"
   ]
  },
  {
   "cell_type": "code",
   "execution_count": 35,
   "metadata": {
    "collapsed": false
   },
   "outputs": [
    {
     "data": {
      "text/html": [
       "<dl>\n",
       "\t<dt>$prob</dt>\n",
       "\t\t<dd>0.900124494919575</dd>\n",
       "\t<dt>$set</dt>\n",
       "\t\t<dd><ol class=list-inline>\n",
       "\t<li>0.49</li>\n",
       "\t<li>0.5</li>\n",
       "\t<li>0.51</li>\n",
       "\t<li>0.52</li>\n",
       "\t<li>0.53</li>\n",
       "\t<li>0.54</li>\n",
       "\t<li>0.55</li>\n",
       "\t<li>0.56</li>\n",
       "\t<li>0.57</li>\n",
       "\t<li>0.58</li>\n",
       "\t<li>0.59</li>\n",
       "\t<li>0.6</li>\n",
       "\t<li>0.61</li>\n",
       "\t<li>0.62</li>\n",
       "\t<li>0.63</li>\n",
       "\t<li>0.64</li>\n",
       "\t<li>0.65</li>\n",
       "\t<li>0.66</li>\n",
       "\t<li>0.67</li>\n",
       "\t<li>0.68</li>\n",
       "\t<li>0.69</li>\n",
       "\t<li>0.7</li>\n",
       "\t<li>0.71</li>\n",
       "\t<li>0.72</li>\n",
       "\t<li>0.73</li>\n",
       "\t<li>0.74</li>\n",
       "\t<li>0.75</li>\n",
       "</ol>\n",
       "</dd>\n",
       "</dl>\n"
      ],
      "text/latex": [
       "\\begin{description}\n",
       "\\item[\\$prob] 0.900124494919575\n",
       "\\item[\\$set] \\begin{enumerate*}\n",
       "\\item 0.49\n",
       "\\item 0.5\n",
       "\\item 0.51\n",
       "\\item 0.52\n",
       "\\item 0.53\n",
       "\\item 0.54\n",
       "\\item 0.55\n",
       "\\item 0.56\n",
       "\\item 0.57\n",
       "\\item 0.58\n",
       "\\item 0.59\n",
       "\\item 0.6\n",
       "\\item 0.61\n",
       "\\item 0.62\n",
       "\\item 0.63\n",
       "\\item 0.64\n",
       "\\item 0.65\n",
       "\\item 0.66\n",
       "\\item 0.67\n",
       "\\item 0.68\n",
       "\\item 0.69\n",
       "\\item 0.7\n",
       "\\item 0.71\n",
       "\\item 0.72\n",
       "\\item 0.73\n",
       "\\item 0.74\n",
       "\\item 0.75\n",
       "\\end{enumerate*}\n",
       "\n",
       "\\end{description}\n"
      ],
      "text/markdown": [
       "$prob\n",
       ":   0.900124494919575\n",
       "$set\n",
       ":   1. 0.49\n",
       "2. 0.5\n",
       "3. 0.51\n",
       "4. 0.52\n",
       "5. 0.53\n",
       "6. 0.54\n",
       "7. 0.55\n",
       "8. 0.56\n",
       "9. 0.57\n",
       "10. 0.58\n",
       "11. 0.59\n",
       "12. 0.6\n",
       "13. 0.61\n",
       "14. 0.62\n",
       "15. 0.63\n",
       "16. 0.64\n",
       "17. 0.65\n",
       "18. 0.66\n",
       "19. 0.67\n",
       "20. 0.68\n",
       "21. 0.69\n",
       "22. 0.7\n",
       "23. 0.71\n",
       "24. 0.72\n",
       "25. 0.73\n",
       "26. 0.74\n",
       "27. 0.75\n",
       "\n",
       "\n",
       "\n",
       "\n",
       "\n"
      ],
      "text/plain": [
       "$prob\n",
       "[1] 0.9001245\n",
       "\n",
       "$set\n",
       " [1] 0.49 0.50 0.51 0.52 0.53 0.54 0.55 0.56 0.57 0.58 0.59 0.60 0.61 0.62 0.63\n",
       "[16] 0.64 0.65 0.66 0.67 0.68 0.69 0.70 0.71 0.72 0.73 0.74 0.75\n"
      ]
     },
     "metadata": {},
     "output_type": "display_data"
    }
   ],
   "source": [
    "## Print the 90 percent HCI \n",
    "HCI"
   ]
  },
  {
   "cell_type": "code",
   "execution_count": 36,
   "metadata": {
    "collapsed": false
   },
   "outputs": [
    {
     "data": {
      "image/png": "[encoded data removed]",
      "text/plain": [
       "Plot with title \"Predictive Distribution\""
      ]
     },
     "metadata": {},
     "output_type": "display_data"
    }
   ],
   "source": [
    "## Make a prediction for the distribution of the \n",
    "## next 20 observations\n",
    "n <- 20\n",
    "s <- 0:20\n",
    "pred.probs <- pdiscp(p, post, n, s)\n",
    "plot(s, pred.probs, type=\"h\",\n",
    "     main=\"Predictive Distribution\")\n"
   ]
  },
  {
   "cell_type": "code",
   "execution_count": null,
   "metadata": {
    "collapsed": true
   },
   "outputs": [],
   "source": []
  }
 ],
 "metadata": {
  "anaconda-cloud": {},
  "kernelspec": {
   "display_name": "R",
   "language": "R",
   "name": "ir"
  },
  "language_info": {
   "codemirror_mode": "r",
   "file_extension": ".r",
   "mimetype": "text/x-r-source",
   "name": "R",
   "pygments_lexer": "r",
   "version": "3.3.1"
  }
 },
 "nbformat": 4,
 "nbformat_minor": 1
}
