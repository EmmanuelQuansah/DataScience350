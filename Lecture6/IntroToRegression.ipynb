{
 "cells": [
  {
   "cell_type": "markdown",
   "metadata": {},
   "source": [
    "# Introduction to Regression\n",
    "\n",
    "### Data Science 350\n",
    "### Stephen F Elston\n",
    "\n",
    "## Introduction\n",
    "\n",
    "The method of regression is one of the oldest and most widely used analytics methods. The goal of regression is to produce a model that represents the ‘best fit’ to some observed data. Typically the model is a function describing some type of curve (lines, parabolas, etc.) that is determined by a set of parameters (e.g., slope and intercept). “Best fit” means that there is an optimal set of parameters according to an evaluation criteria we choose.\n",
    "\n",
    "A regression models attempt to predict the value of one variable, known as the **dependent variable**, **response variable** or **label**, using the values of other variables, known as **independent variables**, **explainatory variables** or **features**. Single regression has one label used to predict one feature. Multiple regression uses two of more feature variables. \n",
    "\n",
    "Virtually all machine learning models, including some of the latest deep learning methods, are a form of regression. There methods often suffer from the same problems, including overfitting and mathematically unstable fitting methods. \n",
    "\n",
    "Linear regression is the foundational form of regression. In linear regression the squared error of the predictions of the dependent variable using the independent variable. This approach is know as the **method of least squares**.\n",
    "\n",
    "## History\n",
    "\n",
    "Regression is based on the method of least squares or the method of minimum mean square error. The ideas around least squares or averaging errors have occured over nearly three centruies. The fist known publication of a 'method of avergages' was by the German astronomer Tobias Mayer in 1750. Lapace used a similar method which he published in 1788.\n",
    "\n",
    "![](img/TobiasMayer.jpg)\n",
    "\n",
    "The first publication of the method or least squares was by the French mathematician Adrien-Marie Legendre in 1805. \n",
    "\n",
    "![](img/Legendre.jpg)\n",
    "<center>**Caricature of Legendre**, published method of least squares\n",
    "\n",
    "It is very likely that the German physicist and mathematician developed the method of least squares as early as 1795, but did not publish the method until 1809, aside for a reference in a letter in 1799. Gauss never disputed Legendre's priority in publication. Legendre did not return the favor, and opposed any notion that Gauss had used the method earlier. \n",
    "\n",
    "![](img/Carl_Friedrich_Gauss.jpg)\n",
    "<center>**Carl Friedrich Gauss**, early adoptor of least squares\n",
    "\n",
    "The first use of regression was published by Francis Gaulton in 1886. Gaulton, a cousin of Charles Darwin, also gave the method the name regression. Gaulton was interested in determining which traits of plants and animals, including humans, could be said to be inherited. \n",
    "\n",
    "<center>![](img/Francis_Galton.jpg)\n",
    "**Francis Galton**, inventor of regression\n",
    "\n",
    "While Gaulton invented regression, it fell to Karl Pearson to put regression and multiple regression on a firm mathematical footing. Pearson's 1898 publication proposed a method of regression as we understand it today. \n",
    "\n",
    "Many others have expanded the theory of regression in the 120 years since Pearson's paper. Notably, Joseph Berkson published the logistic regression method in 1936, one of the first classification algorithms. In recent times the interest in machine learning has lead to a rapid increase in the numbers and types of regression models. "
   ]
  },
  {
   "cell_type": "markdown",
   "metadata": {},
   "source": [
    "## Introduction to Linear Regression\n",
    "\n",
    "We will inear models are foundational\n",
    "- Linear models derived with linear algebra\n",
    "- Basis of many machine learning models\n",
    "- Understanding linear models is basis for understanding behavior of stats and ML models\n",
    "- Basis of time series models\n",
    "\n",
    "### Linear model of a strait line\n",
    "\n",
    "Let's have a look at the simplest case of a regression model for a straght line. If we have one feature and one label, there are some number of values pairs, ${x_i,y_i}$, we can define a line that best fits that data.  \n",
    "\n",
    "![](img/ymxb.jpg)\n",
    "<center>**Single regression model**\n",
    "\n",
    "$$where\\\\\n",
    "slope = m = \\frac{rise}{run} = \\frac{\\delta y}{\\delta x}\\\\\n",
    "and\\\\\n",
    "y = b\\ at\\ x = 0$$\n",
    "\n",
    "\n",
    "If we have a number of values pairs, ${x_i,y_i}$, we can write the equation for the line with the errors as:\n",
    "\n",
    "$$y_i = mx_i + b + \\epsilon_i \\\\\n",
    "where \\\\\n",
    "\\epsilon_i = error$$\n",
    "\n",
    "We can visualize these errors as shown in the fiture below.\n",
    "\n",
    "![](img/LSRegression.jpg)\n",
    "<center>**Example of Least Squares Regression**\n",
    "\n",
    "We want to solve for $m$ and $b$ by minimizing the error, $\\epsilon_i$. We call this **least sqares regression**.\n",
    "\n",
    "$$min \\Sigma_i \\epsilon^2 = min \\Sigma_i{ (y_i - (mx_i + b))^2}$$\n",
    "\n",
    "There are lots of compuationally efficient algorithms for finding minimums of equations. "
   ]
  },
  {
   "cell_type": "markdown",
   "metadata": {},
   "source": [
    "### A first regresson model\n",
    "\n",
    "Let's give regression a try. The code in the cell below computes data pairs along a straight line. Normally distributed noise is added to the data values. Run this code and examine the head of the data frame."
   ]
  },
  {
   "cell_type": "code",
   "execution_count": 1,
   "metadata": {
    "collapsed": false
   },
   "outputs": [
    {
     "data": {
      "text/html": [
       "<table>\n",
       "<thead><tr><th scope=col>x</th><th scope=col>y</th></tr></thead>\n",
       "<tbody>\n",
       "\t<tr><td>0.0000000  </td><td> 0.70103061</td></tr>\n",
       "\t<tr><td>0.2040816  </td><td> 0.31131280</td></tr>\n",
       "\t<tr><td>0.4081633  </td><td> 0.99131636</td></tr>\n",
       "\t<tr><td>0.6122449  </td><td> 0.58533196</td></tr>\n",
       "\t<tr><td>0.8163265  </td><td> 2.84454415</td></tr>\n",
       "\t<tr><td>1.0204082  </td><td>-0.01597197</td></tr>\n",
       "</tbody>\n",
       "</table>\n"
      ],
      "text/latex": [
       "\\begin{tabular}{r|ll}\n",
       " x & y\\\\\n",
       "\\hline\n",
       "\t 0.0000000   &  0.70103061\\\\\n",
       "\t 0.2040816   &  0.31131280\\\\\n",
       "\t 0.4081633   &  0.99131636\\\\\n",
       "\t 0.6122449   &  0.58533196\\\\\n",
       "\t 0.8163265   &  2.84454415\\\\\n",
       "\t 1.0204082   & -0.01597197\\\\\n",
       "\\end{tabular}\n"
      ],
      "text/markdown": [
       "\n",
       "x | y | \n",
       "|---|---|---|---|---|---|\n",
       "| 0.0000000   |  0.70103061 | \n",
       "| 0.2040816   |  0.31131280 | \n",
       "| 0.4081633   |  0.99131636 | \n",
       "| 0.6122449   |  0.58533196 | \n",
       "| 0.8163265   |  2.84454415 | \n",
       "| 1.0204082   | -0.01597197 | \n",
       "\n",
       "\n"
      ],
      "text/plain": [
       "  x         y          \n",
       "1 0.0000000  0.70103061\n",
       "2 0.2040816  0.31131280\n",
       "3 0.4081633  0.99131636\n",
       "4 0.6122449  0.58533196\n",
       "5 0.8163265  2.84454415\n",
       "6 1.0204082 -0.01597197"
      ]
     },
     "metadata": {},
     "output_type": "display_data"
    }
   ],
   "source": [
    "sim.data <- function(x1, y1, x2, y2, n, sd){\n",
    "  error <- rnorm(n, mean = 0, sd = sd)\n",
    "  data.frame(\n",
    "              x = seq(from = x1, to = x2, length.out = n),\n",
    "              y = (seq(from = x1, to = x2, length.out = n) + error)\n",
    "            )\n",
    "}\n",
    "reg.data = sim.data(0, 0, 10, 10, 50, 1)\n",
    "head(reg.data)"
   ]
  },
  {
   "cell_type": "markdown",
   "metadata": {},
   "source": [
    "Next, you can visualize these data by exectuting the code in the cell below. Notice that the points nearly fall on a stright line. "
   ]
  },
  {
   "cell_type": "code",
   "execution_count": 2,
   "metadata": {
    "collapsed": false
   },
   "outputs": [
    {
     "name": "stderr",
     "output_type": "stream",
     "text": [
      "Loading required package: repr\n",
      "Warning message:\n",
      "\"package 'repr' was built under R version 3.3.2\"Loading required package: ggplot2\n"
     ]
    },
    {
     "data": {},
     "metadata": {},
     "output_type": "display_data"
    },
    {
     "data": {
      "image/png": "[encoded data removed]",
      "text/plain": [
       "plot without title"
      ]
     },
     "metadata": {},
     "output_type": "display_data"
    }
   ],
   "source": [
    "require(repr)\n",
    "options(repr.plot.width=5, repr.plot.height=5)\n",
    "plot.dat <- function(df){\n",
    "  require(ggplot2)\n",
    "  ggplot(df, aes(x, y)) + \n",
    "    geom_point(size = 2) +\n",
    "    ggtitle('X vs. Y')\n",
    "}\n",
    "plot.dat(reg.data)"
   ]
  },
  {
   "cell_type": "markdown",
   "metadata": {},
   "source": [
    "Now, you are ready to build and evaluate the model using R. R contains extensive linear modeling capabilities. Model definition in R using a powerful and flexible language to define the model. This modeling language was developed by John Chambers, Trevor Hastie, Rick Becker and others at AT&T Bell Labs in the late 1980's and early 1990's.\n",
    "\n",
    "![](img/StatModS_.jpg)\n",
    "<center>**Seminal book on stats modeling language, 1991**\n",
    "\n",
    "For a good [**cheatsheet and summary of the R modeling language**](http://faculty.chicagobooth.edu/richard.hahn/teaching/formulanotation.pdf) look at the posting by Richard Hahn of the Chicago Booth School. \n",
    "\n",
    "Models are defined by an equation using the $\\sim$ symbol to mean modeled by. In summary, the variable to be modeled is always on the left. The relationship between the variabble to be modeled on the right. This basic scheme can be written as shown here. \n",
    "\n",
    "$$dependent\\ variable\\sim indepenent\\ variables$$\n",
    "\n",
    "For example, if the dependent variable (dv) is modeled by two independent variables (var1 and var2), with no interaction, the formula would be:\n",
    "\n",
    "$$dv \\sim var1 + var2$$\n",
    "\n",
    "In our case we only have one independent variable and one dependent variable. The code in the cell below does the following:\n",
    "\n",
    "- Compute the R model object, `mod`, using the formula `y ~ x`.\n",
    "- Use the model object to compute scores (predicted values) for the dependent variable `y`. In this case, we just use the data that was orriginally used to compute the model. In a more general case, you can use other data to make predictions from the model.\n",
    "- The residuals of the model are computed.\n",
    "\n",
    "Execute this code and examine the head of the data frame computed."
   ]
  },
  {
   "cell_type": "code",
   "execution_count": 3,
   "metadata": {
    "collapsed": false
   },
   "outputs": [
    {
     "data": {
      "text/html": [
       "<table>\n",
       "<thead><tr><th scope=col>x</th><th scope=col>y</th><th scope=col>score</th><th scope=col>resids</th></tr></thead>\n",
       "<tbody>\n",
       "\t<tr><td>0.0000000  </td><td> 0.70103061</td><td>0.06826421 </td><td> 0.63276641</td></tr>\n",
       "\t<tr><td>0.2040816  </td><td> 0.31131280</td><td>0.25984729 </td><td> 0.05146551</td></tr>\n",
       "\t<tr><td>0.4081633  </td><td> 0.99131636</td><td>0.45143038 </td><td> 0.53988599</td></tr>\n",
       "\t<tr><td>0.6122449  </td><td> 0.58533196</td><td>0.64301346 </td><td>-0.05768150</td></tr>\n",
       "\t<tr><td>0.8163265  </td><td> 2.84454415</td><td>0.83459655 </td><td> 2.00994760</td></tr>\n",
       "\t<tr><td>1.0204082  </td><td>-0.01597197</td><td>1.02617963 </td><td>-1.04215160</td></tr>\n",
       "</tbody>\n",
       "</table>\n"
      ],
      "text/latex": [
       "\\begin{tabular}{r|llll}\n",
       " x & y & score & resids\\\\\n",
       "\\hline\n",
       "\t 0.0000000   &  0.70103061 & 0.06826421  &  0.63276641\\\\\n",
       "\t 0.2040816   &  0.31131280 & 0.25984729  &  0.05146551\\\\\n",
       "\t 0.4081633   &  0.99131636 & 0.45143038  &  0.53988599\\\\\n",
       "\t 0.6122449   &  0.58533196 & 0.64301346  & -0.05768150\\\\\n",
       "\t 0.8163265   &  2.84454415 & 0.83459655  &  2.00994760\\\\\n",
       "\t 1.0204082   & -0.01597197 & 1.02617963  & -1.04215160\\\\\n",
       "\\end{tabular}\n"
      ],
      "text/markdown": [
       "\n",
       "x | y | score | resids | \n",
       "|---|---|---|---|---|---|\n",
       "| 0.0000000   |  0.70103061 | 0.06826421  |  0.63276641 | \n",
       "| 0.2040816   |  0.31131280 | 0.25984729  |  0.05146551 | \n",
       "| 0.4081633   |  0.99131636 | 0.45143038  |  0.53988599 | \n",
       "| 0.6122449   |  0.58533196 | 0.64301346  | -0.05768150 | \n",
       "| 0.8163265   |  2.84454415 | 0.83459655  |  2.00994760 | \n",
       "| 1.0204082   | -0.01597197 | 1.02617963  | -1.04215160 | \n",
       "\n",
       "\n"
      ],
      "text/plain": [
       "  x         y           score      resids     \n",
       "1 0.0000000  0.70103061 0.06826421  0.63276641\n",
       "2 0.2040816  0.31131280 0.25984729  0.05146551\n",
       "3 0.4081633  0.99131636 0.45143038  0.53988599\n",
       "4 0.6122449  0.58533196 0.64301346 -0.05768150\n",
       "5 0.8163265  2.84454415 0.83459655  2.00994760\n",
       "6 1.0204082 -0.01597197 1.02617963 -1.04215160"
      ]
     },
     "metadata": {},
     "output_type": "display_data"
    }
   ],
   "source": [
    "mod = lm(y ~ x, data = reg.data)\n",
    "reg.data$score <- predict(mod, data = reg.data)\n",
    "reg.data$resids <- reg.data$y - reg.data$score\n",
    "head(reg.data)"
   ]
  },
  {
   "cell_type": "markdown",
   "metadata": {},
   "source": [
    "The code in the cell below is fairly volumonous, but straight forward. In summary, the code computes summary statistics and makes diagnostic plots for simple R linear models. Execute the code and examine plot of the predicted vs. actual values and the histogram of the residuals. "
   ]
  },
  {
   "cell_type": "code",
   "execution_count": 19,
   "metadata": {
    "collapsed": false
   },
   "outputs": [
    {
     "name": "stderr",
     "output_type": "stream",
     "text": [
      "`stat_bin()` using `bins = 30`. Pick better value with `binwidth`.\n"
     ]
    },
    {
     "name": "stdout",
     "output_type": "stream",
     "text": [
      "SSE = 419.819394072517 \n",
      "SSR = 37.6381764404648 \n",
      "SST = 457.457570512982 \n",
      "RMSE = 8.74623737651077 \n",
      "Adjusted R^2 = 0.916009029923317 \n",
      "Intercept = 0.0682642054103499 \n",
      "Slope = 0.938757117343629 \n"
     ]
    },
    {
     "data": {
      "image/png": "[encoded data removed]",
      "text/plain": [
       "plot without title"
      ]
     },
     "metadata": {},
     "output_type": "display_data"
    }
   ],
   "source": [
    "options(repr.plot.width=8, repr.plot.height=4)\n",
    "plot.regression <- function(df, mod, k = 2, two.plot = TRUE){\n",
    "  require(ggplot2)\n",
    "  require(gridExtra)\n",
    "  \n",
    "  if(two.plot) {\n",
    "      p1 <- ggplot(df, aes(x, y)) + \n",
    "            geom_point(size = 2) +\n",
    "            geom_line(aes(x, score, color = 'Red')) + \n",
    "            ggtitle('X vs. Y with regression line')\n",
    "      }\n",
    " \n",
    "  p2 <- ggplot(df, aes(resids)) +\n",
    "           geom_histogram(aes(y = ..density..)) +\n",
    "           geom_density(color = 'red', fill = 'red', alpha = 0.2) +\n",
    "           ggtitle('Histogram of residuals')\n",
    "  \n",
    "  if(two.plot) {grid.arrange(p1, p2, ncol = 2)}\n",
    "  else{print(p2)}\n",
    "  if(k > 2){plot(mod)}\n",
    "  \n",
    "  Ybar = mean(df$y)\n",
    "  SSE <- sum((df$y - Ybar)^2)\n",
    "  SSR <- sum(df$resids * df$resids)\n",
    "  cat(paste('SSE =', as.character(SSE), '\\n'))\n",
    "  cat(paste('SSR =', as.character(SSR), '\\n'))\n",
    "  cat(paste('SST =', as.character(SSE + SSR), '\\n'))\n",
    "  cat(paste('RMSE =', as.character(SSE/(nrow(df) - 2)), '\\n'))\n",
    "  if(k == 1 | k == 2){\n",
    "    n = nrow(df)\n",
    "#    adjR2  <- 1.0 - (SSE/SSR) * ((n - 1)/(n - k))\n",
    "      \n",
    "    adjR2  <- 1.0 - (SSR/(SSE + SSR)) * ((n - 1)/(n - k))\n",
    "    cat(paste('Adjusted R^2 =', as.character(adjR2)), '\\n')\n",
    "    cat(paste('Intercept =', as.character(mod$coefficients[1]), '\\n'))\n",
    "    cat(paste('Slope =', as.character(mod$coefficients[2]), '\\n'))\n",
    "  } else {\n",
    "      cat('\\n')\n",
    "      cat('\\n')\n",
    "      cat('Summary on R Model Object')\n",
    "      summary(mod)\n",
    "  }\n",
    "}\n",
    "plot.regression(reg.data, mod)"
   ]
  },
  {
   "cell_type": "markdown",
   "metadata": {},
   "source": [
    "**Your Turn:** Create a regression moodel from synthetic data with intercept of 0 and maximum value at ${x = 10, y = 10}$, and with a the error having a standard deviation of 5. Plot the result of your model. How does this slope and intercept of this model compare to the model from the data with a standard deviation of 1? "
   ]
  },
  {
   "cell_type": "code",
   "execution_count": null,
   "metadata": {
    "collapsed": true
   },
   "outputs": [],
   "source": []
  },
  {
   "cell_type": "markdown",
   "metadata": {},
   "source": [
    "### Evaluation of regression models\n",
    "\n",
    "Now that you have built a regression model, let's look at how you can quantitatively evaluate the performance of a regression model. The evaluation of regression models is based on measurements of the errors. The errors of a regression model can be visualized as shown in the figure below. \n",
    "\n",
    "![](img/Errors.jpg)\n",
    "<center>**Measuring errors for a regression model**\n",
    "$$Where\\\\\n",
    "\\bar{Y} = mean(y_i)\\\\\n",
    "\\\\\\hat{y_i} = regression\\ estimate\\\\\n",
    "SSE = sum\\ square\\ explained\\ = \\Sigma_i{(\\hat{y_i} - \\bar{y_i})^2}\\\\\n",
    "SSR = sum\\ square\\ residual\\ = \\Sigma_i{(y_i - \\hat{y_i})}\\\\\n",
    "SST = sum\\ square\\ total\\ = \\Sigma_i(y_i - \\bar{Y})^2$$\n",
    "\n",
    "The goal of regression is to minimize the residual error, $SSR$. Specifically we wish to explain the maximum amount of the variance in the original data as possible with our model. We can quantify this idea with coeficient of determination also known as $R^2$.\n",
    "\n",
    "$$R^2 = 1 - \\frac{SSR}{SST}\\\\\n",
    "so\\ as\\\\\n",
    "SSR \\rightarrow 0\\\\\n",
    "R^2 \\rightarrow 1$$\n",
    "\n",
    "In words, $R^2$ is the fraction of the variance of the original data explained by the model. A model with perfectly explain the data has $R^2 = 1$. A model which does not explain the data at all has $R^2 = 0$.\n",
    "\n",
    "However, there are two problems with $R^2$. </center>\n",
    " - $R^2$ is not bias adjusted for degrees of freedom.\n",
    " - More importantly, there is no adjustment for the number of model parameters. As the number of model parameters increases $SSR$ will generally decrease. Without an adjustment you will get a false sense of model performance.\n",
    " \n",
    "To addresses these related issues, we can use adjusted $R^2$.\n",
    "\n",
    "$$R^2_{adj} = 1 - \\frac{\\frac{SSR}{df_{SSR}}}{\\frac{SST}{df_{SST}}}\\\\\n",
    "where\\\\\n",
    "df_SSR = SSR\\ degrees\\ of\\ fredom\\\\\n",
    "df_SST = SST\\ degrees\\ of\\ fredom$$\n",
    "\n",
    "This gives $R^2_{adj}$ as:\n",
    "\n",
    "$$R^2_{adj} = 1 - (1 - R^2) \\frac{n - 1}{n - k}\\\\ \n",
    "where\\\\\n",
    "n = number\\ of\\ data\\ samples\\\\\n",
    "k = number\\ of\\ model\\ coeficients$$\n",
    "\n",
    "Or, we can rewrite $R^2_{adj}$ as:\n",
    "\n",
    "$$R^2_{adj} =  1.0 - \\frac{SSR}{SST}  \\frac{n - 1}{n - k}$$\n",
    "\n",
    "Another measure of regression performance is root mean square error or $RMSE$:\n",
    "\n",
    "$$RMSE = \\sqrt{\\Sigma^n_{i-1} \\frac{(y_i - \\hat{y_i})}{n}}$$\n",
    "\n",
    "**Your Turn:** Examine the performance metrics for the previous two regressions. How do SSE, SSR, SST, $R^2$, and RMSE compare?"
   ]
  },
  {
   "cell_type": "code",
   "execution_count": null,
   "metadata": {
    "collapsed": true
   },
   "outputs": [],
   "source": []
  },
  {
   "cell_type": "markdown",
   "metadata": {},
   "source": [
    "### Linear regression assumptions\n",
    "\n",
    "At this point we should discuss a few key assumtions of linear regression. Keep these points in mind whenever you used these models. \n",
    "\n",
    "- Linear relationship between dependent variable and the coeficients of the independent variables.\n",
    "- Measurement error is independent and random. Technically, we say that the error is **independent identical distribution, or iid**.\n",
    "- Errors arise from the dependent variable only.\n",
    "- There is no multicolinearity. In other words, there is no significant correlation between the independent variables.\n",
    "- Residuals are **homoscedastic** (constant variance).  In other words, the errors are the same across all groups of independent variables. The opposite of homoscedastic is **heteroscedastic**.\n",
    "\n",
    "The diagram below illustrates the iid errors for the dependent variable only.\n",
    "\n",
    "![](img/IndependentErrors.jpg)"
   ]
  },
  {
   "cell_type": "markdown",
   "metadata": {
    "collapsed": true
   },
   "source": [
    "### Linear regressions are not just for strait lines\n",
    "\n",
    "A linear model is linear in its coeficients, but that does not mean we are limited to straight lines, **a common misconception**.  In fact, a linear model need only be linear in its coeficients. A **non-comprehensive** list of functions which can be included in a linear model includes:\n",
    "\n",
    "- Polynomials, but beware of polynomials of degree 3 or above.\n",
    "- Splines and smoothing kernels.\n",
    "- Triganometric.\n",
    "- Logrithmic and expontential.\n",
    "- Interation terms, which are the product of feature values. For example, the two-way interaction of `var1` and `var2` is specified at `var1:var2`, or `var1*var2`. Tdding a third variable, `var3` the three-way interaction, including all two-way interactions is modeled as `var1:var2:var3`. \n",
    "\n",
    "Clarify these concepts, let's look at an example. The code in the cell below computes a curved line using a second order polynomial with coeficients `c1 and c2` and adds Normally distributed noise.  Notice that the polynomial is defined by a linear sum of the components, defined by the coeficients. Run this code and have a look at the head of the data frame."
   ]
  },
  {
   "cell_type": "code",
   "execution_count": 11,
   "metadata": {
    "collapsed": false
   },
   "outputs": [
    {
     "data": {
      "text/html": [
       "<table>\n",
       "<thead><tr><th scope=col>x</th><th scope=col>y</th></tr></thead>\n",
       "<tbody>\n",
       "\t<tr><td>0.0000000  </td><td> 0.07687331</td></tr>\n",
       "\t<tr><td>0.2040816  </td><td>-3.24066700</td></tr>\n",
       "\t<tr><td>0.4081633  </td><td> 0.04739940</td></tr>\n",
       "\t<tr><td>0.6122449  </td><td>-1.85518282</td></tr>\n",
       "\t<tr><td>0.8163265  </td><td> 2.45767645</td></tr>\n",
       "\t<tr><td>1.0204082  </td><td> 0.69254302</td></tr>\n",
       "</tbody>\n",
       "</table>\n"
      ],
      "text/latex": [
       "\\begin{tabular}{r|ll}\n",
       " x & y\\\\\n",
       "\\hline\n",
       "\t 0.0000000   &  0.07687331\\\\\n",
       "\t 0.2040816   & -3.24066700\\\\\n",
       "\t 0.4081633   &  0.04739940\\\\\n",
       "\t 0.6122449   & -1.85518282\\\\\n",
       "\t 0.8163265   &  2.45767645\\\\\n",
       "\t 1.0204082   &  0.69254302\\\\\n",
       "\\end{tabular}\n"
      ],
      "text/markdown": [
       "\n",
       "x | y | \n",
       "|---|---|---|---|---|---|\n",
       "| 0.0000000   |  0.07687331 | \n",
       "| 0.2040816   | -3.24066700 | \n",
       "| 0.4081633   |  0.04739940 | \n",
       "| 0.6122449   | -1.85518282 | \n",
       "| 0.8163265   |  2.45767645 | \n",
       "| 1.0204082   |  0.69254302 | \n",
       "\n",
       "\n"
      ],
      "text/plain": [
       "  x         y          \n",
       "1 0.0000000  0.07687331\n",
       "2 0.2040816 -3.24066700\n",
       "3 0.4081633  0.04739940\n",
       "4 0.6122449 -1.85518282\n",
       "5 0.8163265  2.45767645\n",
       "6 1.0204082  0.69254302"
      ]
     },
     "metadata": {},
     "output_type": "display_data"
    }
   ],
   "source": [
    "sim.data.ploy <- function(x1, y1, x2, y2, c1 = 1.0, c2 = 0.5, n, sd){\n",
    "  require(dplyr)\n",
    "  error <- rnorm(n, mean = 0, sd = sd)\n",
    "  df = data.frame(\n",
    "              x = seq(from = x1, to = x2, length.out = n),\n",
    "              y = (seq(from = x1, to = x2, length.out = n))\n",
    "            )\n",
    "  df = df %>% mutate(y = c1 * y + c2 * y^2 + error)\n",
    "}\n",
    "reg.data.poly = sim.data.ploy(0, 0, 10, 10, n = 50, sd = 3)\n",
    "head(reg.data.poly)"
   ]
  },
  {
   "cell_type": "markdown",
   "metadata": {},
   "source": [
    "Next, you will compute a linear polynomial model for these data. The code in the  cell below uses the `I()` function which literally **Interprets** the argument. In this case `I(x^2)` is interpreted as the second order polynomial term. Run this code and examine the results. "
   ]
  },
  {
   "cell_type": "code",
   "execution_count": 12,
   "metadata": {
    "collapsed": false
   },
   "outputs": [
    {
     "name": "stderr",
     "output_type": "stream",
     "text": [
      "`stat_bin()` using `bins = 30`. Pick better value with `binwidth`.\n"
     ]
    },
    {
     "data": {
      "image/png": "[encoded data removed]",
      "text/plain": [
       "plot without title"
      ]
     },
     "metadata": {},
     "output_type": "display_data"
    },
    {
     "data": {
      "image/png": "[encoded data removed]",
      "text/plain": [
       "Plot with title \"\""
      ]
     },
     "metadata": {},
     "output_type": "display_data"
    },
    {
     "data": {
      "image/png": "[encoded data removed]",
      "text/plain": [
       "Plot with title \"\""
      ]
     },
     "metadata": {},
     "output_type": "display_data"
    },
    {
     "data": {
      "image/png": "[encoded data removed]",
      "text/plain": [
       "Plot with title \"\""
      ]
     },
     "metadata": {},
     "output_type": "display_data"
    },
    {
     "name": "stdout",
     "output_type": "stream",
     "text": [
      "SSE = 17.601639633871 \n",
      "SSR = 201.719192266801 \n",
      "SST = 219.320831900672 \n",
      "RMSE = 0.366700825705646 \n",
      "\n",
      "\n",
      "Summary on R Model Object"
     ]
    },
    {
     "data": {
      "text/plain": [
       "\n",
       "Call:\n",
       "lm(formula = y ~ x + I(x^2), data = reg.data.poly)\n",
       "\n",
       "Residuals:\n",
       "    Min      1Q  Median      3Q     Max \n",
       "-4.2359 -2.0700 -0.3366  1.4498  6.0975 \n",
       "\n",
       "Coefficients:\n",
       "            Estimate Std. Error t value Pr(>|t|)    \n",
       "(Intercept) -0.27175    1.04712  -0.260   0.7964    \n",
       "x            1.17482    0.48428   2.426   0.0192 *  \n",
       "I(x^2)       0.48405    0.04683  10.336 1.09e-13 ***\n",
       "---\n",
       "Signif. codes:  0 '***' 0.001 '**' 0.01 '*' 0.05 '.' 0.1 ' ' 1\n",
       "\n",
       "Residual standard error: 2.567 on 47 degrees of freedom\n",
       "Multiple R-squared:  0.9815,\tAdjusted R-squared:  0.9807 \n",
       "F-statistic:  1244 on 2 and 47 DF,  p-value: < 2.2e-16\n"
      ]
     },
     "metadata": {},
     "output_type": "display_data"
    },
    {
     "data": {
      "image/png": "[encoded data removed]",
      "text/plain": [
       "Plot with title \"\""
      ]
     },
     "metadata": {},
     "output_type": "display_data"
    }
   ],
   "source": [
    "mod.poly = lm(y ~ x + I(x^2), reg.data.poly)\n",
    "reg.data.poly$score <- predict(mod.poly, data = reg.data.poly)\n",
    "reg.data.poly$resids <- reg.data.poly$y - reg.data.poly$score\n",
    "plot.regression(reg.data.poly, mod.poly, k = 3)"
   ]
  },
  {
   "cell_type": "markdown",
   "metadata": {},
   "source": [
    "There is quite a bit of new information both plotted and in the tables. Let's step through what all this means.\n",
    "\n",
    "- The plot of the data and the regression line. Look at this plot and try to decide if the fit is reasonably good.\n",
    "- The histogram of the residuals. Do these residuals appear to be close to Normally distributed?\n",
    "- A plot of fitted values (y in this case) vs. the residuals. Note the fitted smoothing regression line. Ideally, the distribution of residuals should not change with fitted values. \n",
    "- A Q-Q Normal plot of the residuals. Do these residuals appear to be close to Normally distributed?\n",
    "- A plot of fitted values vs. the square root of the standardized residuals. Note the fitted smoothing regression line. Ideally, the distribution of residuals should not change with fitted values and should be in the range $0 \\le \\sqrt{stdresid} \\le 1.5$ standard deviations. \n",
    "- The statistics we have already discussed.\n",
    "- The report from the R `summary` method.\n",
    "  - The model formula.\n",
    "  - Summary statistics of the residuals.\n",
    "  - For each model coeficient, 1) the value of the coeficient, 2) the standard error of the coeficient, 3) the t statistic for the coeficient, and 4) the p-value of the coeficient. The null hypothesis for the coeficient is that it is 0, and not contributing to the model.\n",
    "  - The standard error of the residuals, defined as:\n",
    "$$rse = \\frac{\\Sigma^N_i(y_i - \\hat{y_i})}{df} = \\frac{\\Sigma^N_i(y_i - \\hat{y_i})}{N - k}\\\\\n",
    "where\\\\\n",
    "k = number\\ of\\ model\\ parameters\n",
    "$$\n",
    "  - $R^2$ and $R^2_{adj}$.\n",
    "  - The F statistic and p-value for the model. The null hypthesis is that the model is not explaining the data, or that the distribution of residuals is the same as the distribution of the original data. \n",
    "- A leverage plot showing cooks distance. More on this latter."
   ]
  },
  {
   "cell_type": "markdown",
   "metadata": {},
   "source": [
    "**Your Turn:** Compute a linear model using a straight line for the polynomial curve data. Compare the plots and the performance metrics. **Use a different model name and copy the dataframe to a new name so the notebook works correctly**"
   ]
  },
  {
   "cell_type": "code",
   "execution_count": 22,
   "metadata": {
    "collapsed": false
   },
   "outputs": [
    {
     "name": "stderr",
     "output_type": "stream",
     "text": [
      "`stat_bin()` using `bins = 30`. Pick better value with `binwidth`.\n"
     ]
    },
    {
     "name": "stdout",
     "output_type": "stream",
     "text": [
      "SSE = 291606.468590533 \n",
      "SSR = 37615.3671248262 \n",
      "SST = 329221.835715359 \n",
      "RMSE = 6075.13476230277 \n",
      "Adjusted R^2 = 0.883364295921754 \n",
      "Intercept = -48.6535792537522 \n",
      "Slope = 24.2006941775203 \n"
     ]
    },
    {
     "data": {
      "text/plain": [
       "\n",
       "Call:\n",
       "lm(formula = y ~ x, data = reg.data.poly)\n",
       "\n",
       "Residuals:\n",
       "    Min      1Q  Median      3Q     Max \n",
       "-35.308 -24.171  -6.073  20.067  68.837 \n",
       "\n",
       "Coefficients:\n",
       "            Estimate Std. Error t value Pr(>|t|)    \n",
       "(Intercept)  -48.654      7.801  -6.237 1.09e-07 ***\n",
       "x             24.201      1.344  18.003  < 2e-16 ***\n",
       "---\n",
       "Signif. codes:  0 '***' 0.001 '**' 0.01 '*' 0.05 '.' 0.1 ' ' 1\n",
       "\n",
       "Residual standard error: 27.99 on 48 degrees of freedom\n",
       "Multiple R-squared:  0.871,\tAdjusted R-squared:  0.8683 \n",
       "F-statistic: 324.1 on 1 and 48 DF,  p-value: < 2.2e-16\n"
      ]
     },
     "metadata": {},
     "output_type": "display_data"
    },
    {
     "data": {
      "image/png": "[encoded data removed]",
      "text/plain": [
       "plot without title"
      ]
     },
     "metadata": {},
     "output_type": "display_data"
    }
   ],
   "source": [
    "mod.3 = lm(y ~ x, reg.data.poly)\n",
    "reg.data.3 = reg.data.poly\n",
    "reg.data.3$score <- predict(mod.3, data = reg.data.3)\n",
    "reg.data.3$resids <- reg.data.3$y - reg.data.3$score\n",
    "plot.regression(reg.data.3, mod.3, k = 2)\n",
    "summary(mod.3)"
   ]
  },
  {
   "cell_type": "markdown",
   "metadata": {},
   "source": [
    "## Homoscedastic and Heteroscedastic Errors\n",
    "\n",
    "Let's elaborate on some of the assumptions for the linear model. \n",
    "\n",
    "$$y_i = mx_i + b + \\epsilon_i \\\\\n",
    "where \\\\\n",
    "\\epsilon_i = N(0, \\sigma)$$\n",
    "\n",
    "In this model the errors, $\\epsilon_i$, do not depend on the dependent variable `y`. In this case we say the errors are **homoscedastic**.\n",
    "\n",
    "But what if:\n",
    "\n",
    "$$\\epsilon_i = N(0, f(x_i))\\\\\n",
    "such\\ as\\\\\n",
    "\\epsilon_i = N(0, e^{x_i})$$\n",
    "\n",
    "These errors are now **heteroscedastic**, with the errors dependent on `x` and hence not constant in `y`.\n",
    "\n",
    "Let's look at an example. In the code below the error increases linerly as `x` increases. Run this code and examine the result."
   ]
  },
  {
   "cell_type": "code",
   "execution_count": 25,
   "metadata": {
    "collapsed": false
   },
   "outputs": [
    {
     "name": "stderr",
     "output_type": "stream",
     "text": [
      "`stat_bin()` using `bins = 30`. Pick better value with `binwidth`.\n"
     ]
    },
    {
     "name": "stdout",
     "output_type": "stream",
     "text": [
      "SSE = 5421.05176032167 \n",
      "SSR = 4834.58919665072 \n",
      "SST = 10255.6409569724 \n",
      "RMSE = 112.938578340035 \n",
      "Adjusted R^2 = 0.518771198638837 \n",
      "Intercept = 0.286675357548563 \n",
      "Slope = 1.16289022535641 \n"
     ]
    },
    {
     "data": {
      "text/plain": [
       "\n",
       "Call:\n",
       "lm(formula = y ~ x, data = reg.data.het)\n",
       "\n",
       "Residuals:\n",
       "     Min       1Q   Median       3Q      Max \n",
       "-21.0671  -4.1482  -0.7314   3.4278  29.6633 \n",
       "\n",
       "Coefficients:\n",
       "            Estimate Std. Error t value Pr(>|t|)  \n",
       "(Intercept)   0.2867     2.7965   0.103   0.9188  \n",
       "x             1.1629     0.4819   2.413   0.0197 *\n",
       "---\n",
       "Signif. codes:  0 '***' 0.001 '**' 0.01 '*' 0.05 '.' 0.1 ' ' 1\n",
       "\n",
       "Residual standard error: 10.04 on 48 degrees of freedom\n",
       "Multiple R-squared:  0.1082,\tAdjusted R-squared:  0.0896 \n",
       "F-statistic: 5.823 on 1 and 48 DF,  p-value: 0.01969\n"
      ]
     },
     "metadata": {},
     "output_type": "display_data"
    },
    {
     "data": {
      "image/png": "[encoded data removed]",
      "text/plain": [
       "plot without title"
      ]
     },
     "metadata": {},
     "output_type": "display_data"
    },
    {
     "data": {
      "image/png": "[encoded data removed]",
      "text/plain": [
       "Plot with title \"\""
      ]
     },
     "metadata": {},
     "output_type": "display_data"
    },
    {
     "data": {
      "image/png": "[encoded data removed]",
      "text/plain": [
       "Plot with title \"\""
      ]
     },
     "metadata": {},
     "output_type": "display_data"
    },
    {
     "data": {
      "image/png": "[encoded data removed]",
      "text/plain": [
       "Plot with title \"\""
      ]
     },
     "metadata": {},
     "output_type": "display_data"
    },
    {
     "data": {
      "image/png": "[encoded data removed]",
      "text/plain": [
       "Plot with title \"\""
      ]
     },
     "metadata": {},
     "output_type": "display_data"
    }
   ],
   "source": [
    "sim.data.het <- function(x1, y1, x2, y2, n, sd, factor = 5){\n",
    "  require(dplyr)\n",
    "  error <- rnorm(n, mean = 0, sd = sd)\n",
    "  error = error * seq(1, factor, length.out = n)\n",
    "  df = data.frame(\n",
    "              x = seq(from = x1, to = x2, length.out = n),\n",
    "              y = (seq(from = x1, to = x2, length.out = n))\n",
    "            )\n",
    "  df = df %>% mutate(y = y + error)\n",
    "}\n",
    "reg.data.het = sim.data.het(0, 0, 10, 10, n = 50, sd = 3)\n",
    "\n",
    "mod.het = lm(y ~ x, data = reg.data.het)\n",
    "reg.data.het = reg.data.het\n",
    "reg.data.het$score <- predict(mod.het, data = reg.data.het)\n",
    "reg.data.het$resids <- reg.data.het$y - reg.data.het$score\n",
    "plot.regression(reg.data.het, mod.het, k = 2)\n",
    "summary(mod.het)\n",
    "plot(mod.het)"
   ]
  },
  {
   "cell_type": "markdown",
   "metadata": {},
   "source": [
    "Notice the following about these results, which violate the homoscedastic error assumption:\n",
    "\n",
    "- The plot of residuals vs. the predicted value shows a systematic increase from left to right.\n",
    "- The Q-Q plot and the histogram show that the distribution of residuals has heavy tails and deviates from Normal.\n",
    "- The square root of the standardized residuals shows and increase from right to left on the plot."
   ]
  },
  {
   "cell_type": "markdown",
   "metadata": {},
   "source": [
    "## Leverage and Cook's Distance"
   ]
  },
  {
   "cell_type": "code",
   "execution_count": 21,
   "metadata": {
    "collapsed": false
   },
   "outputs": [
    {
     "data": {
      "text/html": [
       "<table>\n",
       "<thead><tr><th scope=col>x</th><th scope=col>y</th></tr></thead>\n",
       "<tbody>\n",
       "\t<tr><td>0.0000000 </td><td>-3.0028911</td></tr>\n",
       "\t<tr><td>0.2040816 </td><td> 0.9407364</td></tr>\n",
       "\t<tr><td>0.4081633 </td><td>-1.4775174</td></tr>\n",
       "\t<tr><td>0.6122449 </td><td> 0.9022576</td></tr>\n",
       "\t<tr><td>0.8163265 </td><td>-1.3145231</td></tr>\n",
       "\t<tr><td>1.0204082 </td><td> 2.3915046</td></tr>\n",
       "</tbody>\n",
       "</table>\n"
      ],
      "text/latex": [
       "\\begin{tabular}{r|ll}\n",
       " x & y\\\\\n",
       "\\hline\n",
       "\t 0.0000000  & -3.0028911\\\\\n",
       "\t 0.2040816  &  0.9407364\\\\\n",
       "\t 0.4081633  & -1.4775174\\\\\n",
       "\t 0.6122449  &  0.9022576\\\\\n",
       "\t 0.8163265  & -1.3145231\\\\\n",
       "\t 1.0204082  &  2.3915046\\\\\n",
       "\\end{tabular}\n"
      ],
      "text/markdown": [
       "\n",
       "x | y | \n",
       "|---|---|---|---|---|---|\n",
       "| 0.0000000  | -3.0028911 | \n",
       "| 0.2040816  |  0.9407364 | \n",
       "| 0.4081633  | -1.4775174 | \n",
       "| 0.6122449  |  0.9022576 | \n",
       "| 0.8163265  | -1.3145231 | \n",
       "| 1.0204082  |  2.3915046 | \n",
       "\n",
       "\n"
      ],
      "text/plain": [
       "  x         y         \n",
       "1 0.0000000 -3.0028911\n",
       "2 0.2040816  0.9407364\n",
       "3 0.4081633 -1.4775174\n",
       "4 0.6122449  0.9022576\n",
       "5 0.8163265 -1.3145231\n",
       "6 1.0204082  2.3915046"
      ]
     },
     "metadata": {},
     "output_type": "display_data"
    },
    {
     "data": {
      "text/plain": [
       "\n",
       "Call:\n",
       "lm(formula = y ~ x + I(x^2) + I(x^3), data = reg.data.poly)\n",
       "\n",
       "Residuals:\n",
       "    Min      1Q  Median      3Q     Max \n",
       "-4.6403 -1.5706 -0.0908  1.5784  4.5463 \n",
       "\n",
       "Coefficients:\n",
       "            Estimate Std. Error t value Pr(>|t|)    \n",
       "(Intercept)  -1.2139     1.1090  -1.095   0.2794    \n",
       "x             1.3511     0.9702   1.393   0.1704    \n",
       "I(x^2)        0.4483     0.2268   1.977   0.0541 .  \n",
       "I(x^3)        0.2027     0.0149  13.607   <2e-16 ***\n",
       "---\n",
       "Signif. codes:  0 '***' 0.001 '**' 0.01 '*' 0.05 '.' 0.1 ' ' 1\n",
       "\n",
       "Residual standard error: 2.109 on 46 degrees of freedom\n",
       "Multiple R-squared:  0.9993,\tAdjusted R-squared:  0.9993 \n",
       "F-statistic: 2.183e+04 on 3 and 46 DF,  p-value: < 2.2e-16\n"
      ]
     },
     "metadata": {},
     "output_type": "display_data"
    }
   ],
   "source": [
    "sim.data.ploy <- function(x1, y1, x2, y2, c1 = 1.0, c2 = 0.5, c3 = 0.2, n, sd){\n",
    "  require(dplyr)\n",
    "  error <- rnorm(n, mean = 0, sd = sd)\n",
    "  df = data.frame(\n",
    "              x = seq(from = x1, to = x2, length.out = n),\n",
    "              y = (seq(from = x1, to = x2, length.out = n))\n",
    "            )\n",
    "  df = df %>% mutate(y = c1 * y + c2 * y^2 + c3 * y^3 + error)\n",
    "}\n",
    "reg.data.poly = sim.data.ploy(0, 0, 10, 10, n = 50, sd = 2)\n",
    "head(reg.data.poly)\n",
    "\n",
    "mod.poly = lm(y ~ x + I(x^2) + I(x^3), reg.data.poly)\n",
    "reg.data.poly$score <- predict(mod, data = reg.data.poly)\n",
    "reg.data.poly$resids <- reg.data.poly$y - reg.data.poly$score\n",
    "summary(mod.poly)"
   ]
  },
  {
   "cell_type": "code",
   "execution_count": null,
   "metadata": {
    "collapsed": true
   },
   "outputs": [],
   "source": []
  }
 ],
 "metadata": {
  "anaconda-cloud": {},
  "kernelspec": {
   "display_name": "R",
   "language": "R",
   "name": "ir"
  },
  "language_info": {
   "codemirror_mode": "r",
   "file_extension": ".r",
   "mimetype": "text/x-r-source",
   "name": "R",
   "pygments_lexer": "r",
   "version": "3.3.1"
  }
 },
 "nbformat": 4,
 "nbformat_minor": 1
}
