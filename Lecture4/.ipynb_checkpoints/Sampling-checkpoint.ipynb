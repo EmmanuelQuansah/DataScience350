{
 "cells": [
  {
   "cell_type": "markdown",
   "metadata": {},
   "source": [
    "# Sampling and Large Numbers\n",
    "### Stephen Elston\n",
    "### Data Science 350\n",
    "\n",
    "## Introduction\n",
    "\n",
    "Sampling is a fundamental process in the collection of data. Sampling is important because we can almost never look at the whole population. Some key points to keep in mind about sampling are:\n",
    "- We use inferences on the sample to say something about the population.\n",
    "- We need estimates of variances on the sample calculations to say something about the population.\n",
    "\n",
    "Let's look at some examples of sampling.\n",
    "\n",
    "| Use Case | Sample | Population |\n",
    "|---|---|---|\n",
    "| AB Testing | The users we show either web sites A or B | All possible users, past present and future|\n",
    "|World Cup Socer | 32 teams which qualify in one season | All national times for 4 years|\n",
    "|Average height of data science students | Students in UW Data Science 350 | All students taking data science classes world wide|\n",
    "\n",
    "Notice, that in several cases it is not only impractical, but impossible to collect data from the entire population. Hence, we must work with correctly collected samples. \n",
    "\n",
    "## Sampling Strategies\n",
    "\n",
    "We will investigate a number of commonly used sampling strategies: \n",
    "\n",
    "- Bernoulli Sampling\n",
    "- Stratified Sampling\n",
    "- Cluster Sampling\n",
    "- Systematic Sampling\n",
    "\n",
    "\n",
    "### Bernoulli Sampling\n",
    "\n",
    "Bernoulli sampling has the following properties:\n",
    "\n",
    "- Every point subjected to a probability of being selected. Simple Random Sample (most common)\n",
    "- Fixed size Bernoulli sampling.\n",
    "- Example randomly sample weight of product to ensure quality\n",
    "\n",
    "Let's look at an example. The code in the cell below creates a data frame with 200 random samples of a Normal distribution, divided into 4 groups. Run this code and examine the summary of the sample. "
   ]
  },
  {
   "cell_type": "code",
   "execution_count": 1,
   "metadata": {
    "collapsed": false
   },
   "outputs": [
    {
     "name": "stderr",
     "output_type": "stream",
     "text": [
      "Loading required package: dplyr\n",
      "\n",
      "Attaching package: 'dplyr'\n",
      "\n",
      "The following objects are masked from 'package:stats':\n",
      "\n",
      "    filter, lag\n",
      "\n",
      "The following objects are masked from 'package:base':\n",
      "\n",
      "    intersect, setdiff, setequal, union\n",
      "\n"
     ]
    },
    {
     "data": {
      "text/html": [
       "<table>\n",
       "<thead><tr><th scope=col>group</th><th scope=col>n.group</th><th scope=col>mean.index</th></tr></thead>\n",
       "<tbody>\n",
       "\t<tr><td>1         </td><td>20        </td><td>0.39620594</td></tr>\n",
       "\t<tr><td>2         </td><td>70        </td><td>0.20477701</td></tr>\n",
       "\t<tr><td>3         </td><td>73        </td><td>0.07528988</td></tr>\n",
       "\t<tr><td>4         </td><td>37        </td><td>0.02015635</td></tr>\n",
       "</tbody>\n",
       "</table>\n"
      ],
      "text/latex": [
       "\\begin{tabular}{r|lll}\n",
       " group & n.group & mean.index\\\\\n",
       "\\hline\n",
       "\t 1          & 20         & 0.39620594\\\\\n",
       "\t 2          & 70         & 0.20477701\\\\\n",
       "\t 3          & 73         & 0.07528988\\\\\n",
       "\t 4          & 37         & 0.02015635\\\\\n",
       "\\end{tabular}\n"
      ],
      "text/markdown": [
       "\n",
       "group | n.group | mean.index | \n",
       "|---|---|---|---|\n",
       "| 1          | 20         | 0.39620594 | \n",
       "| 2          | 70         | 0.20477701 | \n",
       "| 3          | 73         | 0.07528988 | \n",
       "| 4          | 37         | 0.02015635 | \n",
       "\n",
       "\n"
      ],
      "text/plain": [
       "  group n.group mean.index\n",
       "1 1     20      0.39620594\n",
       "2 2     70      0.20477701\n",
       "3 3     73      0.07528988\n",
       "4 4     37      0.02015635"
      ]
     },
     "metadata": {},
     "output_type": "display_data"
    }
   ],
   "source": [
    "# Create and data frame and look at the group size in the sample\n",
    "data = data.frame(index = 1:200,\n",
    "                  var1 = rnorm(200),\n",
    "                  group = sample(1:4, 200, replace=TRUE, prob=c(0.1,0.3,0.4,0.2)))\n",
    "require(dplyr)\n",
    "data %>% group_by(group) %>% summarise(n.group = n(), mean.index = mean(var1))"
   ]
  },
  {
   "cell_type": "markdown",
   "metadata": {},
   "source": [
    "Next, Bernoulli sample these data by runing the code in the cell below.  "
   ]
  },
  {
   "cell_type": "code",
   "execution_count": 2,
   "metadata": {
    "collapsed": false
   },
   "outputs": [
    {
     "data": {
      "text/html": [
       "<table>\n",
       "<thead><tr><th scope=col>group</th><th scope=col>n.group</th><th scope=col>mean.index</th></tr></thead>\n",
       "<tbody>\n",
       "\t<tr><td>1         </td><td>2         </td><td>0.07417094</td></tr>\n",
       "\t<tr><td>2         </td><td>6         </td><td>0.98350732</td></tr>\n",
       "\t<tr><td>3         </td><td>4         </td><td>0.80521305</td></tr>\n",
       "\t<tr><td>4         </td><td>1         </td><td>1.84368483</td></tr>\n",
       "</tbody>\n",
       "</table>\n"
      ],
      "text/latex": [
       "\\begin{tabular}{r|lll}\n",
       " group & n.group & mean.index\\\\\n",
       "\\hline\n",
       "\t 1          & 2          & 0.07417094\\\\\n",
       "\t 2          & 6          & 0.98350732\\\\\n",
       "\t 3          & 4          & 0.80521305\\\\\n",
       "\t 4          & 1          & 1.84368483\\\\\n",
       "\\end{tabular}\n"
      ],
      "text/markdown": [
       "\n",
       "group | n.group | mean.index | \n",
       "|---|---|---|---|\n",
       "| 1          | 2          | 0.07417094 | \n",
       "| 2          | 6          | 0.98350732 | \n",
       "| 3          | 4          | 0.80521305 | \n",
       "| 4          | 1          | 1.84368483 | \n",
       "\n",
       "\n"
      ],
      "text/plain": [
       "  group n.group mean.index\n",
       "1 1     2       0.07417094\n",
       "2 2     6       0.98350732\n",
       "3 3     4       0.80521305\n",
       "4 4     1       1.84368483"
      ]
     },
     "metadata": {},
     "output_type": "display_data"
    }
   ],
   "source": [
    "##----Bernoulli Sampling-----\n",
    "p = 0.1\n",
    "bernoulli_sample = data[runif(200)<p,] # Yay for R vectorization\n",
    "bernoulli_sample %>% group_by(group) %>% summarise(n.group = n(), mean.index = mean(var1))"
   ]
  },
  {
   "cell_type": "markdown",
   "metadata": {},
   "source": [
    "You can see that the total number of samples is only approximately 10%. \n",
    "\n",
    "**Your Turn:** You can also use the R `sample` function to Bernoulli sample a data frame. Create the code to Bernoulli sample 15 cases from the population and print the summary statistcs of number and mean by group. **Hint:** the syntax is `my.dataframe[sample(row_numbers, sample_size), ]`."
   ]
  },
  {
   "cell_type": "code",
   "execution_count": null,
   "metadata": {
    "collapsed": false
   },
   "outputs": [],
   "source": []
  },
  {
   "cell_type": "markdown",
   "metadata": {},
   "source": [
    "Notice that for both samples the number of cases for some groups can be rather small. Compare the means by groups of the two samples and the population, and notice how much variation there is. Clearly, Bernoulli sampling is far from idea if the data have a group structure.  "
   ]
  },
  {
   "cell_type": "markdown",
   "metadata": {},
   "source": [
    "### Stratified Sampling\n",
    "\n",
    "Stratified sampling strategies are used when data are organized in groups or **Strata**. The idea is simple, sample each group in such a way that the sample includes a representative number of cases from each group. The simplist version of stratified sampling creates a sample with the same number of cases from each group.\n",
    "\n",
    "Some examples of stratified sampling include:\n",
    "\n",
    "- Sample equal numbers of men and women.\n",
    "- Sample equal numbers of people in different income categories.\n",
    "- Sample the same number of people from towns of different sizes.\n",
    "\n",
    "Execute the code in the cell below to sample our population uniformly, and verify the result. "
   ]
  },
  {
   "cell_type": "code",
   "execution_count": 3,
   "metadata": {
    "collapsed": false
   },
   "outputs": [
    {
     "data": {
      "text/html": [
       "<table>\n",
       "<thead><tr><th scope=col>group</th><th scope=col>n.group</th><th scope=col>mean.index</th></tr></thead>\n",
       "<tbody>\n",
       "\t<tr><td>1          </td><td>5          </td><td> 0.88128619</td></tr>\n",
       "\t<tr><td>2          </td><td>5          </td><td> 0.05821385</td></tr>\n",
       "\t<tr><td>3          </td><td>5          </td><td>-0.07544757</td></tr>\n",
       "\t<tr><td>4          </td><td>5          </td><td> 0.12530153</td></tr>\n",
       "</tbody>\n",
       "</table>\n"
      ],
      "text/latex": [
       "\\begin{tabular}{r|lll}\n",
       " group & n.group & mean.index\\\\\n",
       "\\hline\n",
       "\t 1           & 5           &  0.88128619\\\\\n",
       "\t 2           & 5           &  0.05821385\\\\\n",
       "\t 3           & 5           & -0.07544757\\\\\n",
       "\t 4           & 5           &  0.12530153\\\\\n",
       "\\end{tabular}\n"
      ],
      "text/markdown": [
       "\n",
       "group | n.group | mean.index | \n",
       "|---|---|---|---|\n",
       "| 1           | 5           |  0.88128619 | \n",
       "| 2           | 5           |  0.05821385 | \n",
       "| 3           | 5           | -0.07544757 | \n",
       "| 4           | 5           |  0.12530153 | \n",
       "\n",
       "\n"
      ],
      "text/plain": [
       "  group n.group mean.index \n",
       "1 1     5        0.88128619\n",
       "2 2     5        0.05821385\n",
       "3 3     5       -0.07544757\n",
       "4 4     5        0.12530153"
      ]
     },
     "metadata": {},
     "output_type": "display_data"
    }
   ],
   "source": [
    "##-----Stratified Sampling for equal numbers -----\n",
    "n = 5\n",
    "stratified_sample = data %>% group_by(group) %>% sample_n(n, replace = FALSE)\n",
    "stratified_sample %>% group_by(group) %>% summarise(n.group = n(), mean.index = mean(var1))"
   ]
  },
  {
   "cell_type": "markdown",
   "metadata": {},
   "source": [
    "We now have 5 samples from each strata. Notice that the mean estimates of each group are closer those for the population. Stratified sampling ensures the samples for each group are more  representative of the groups. "
   ]
  },
  {
   "cell_type": "markdown",
   "metadata": {},
   "source": [
    "### Cluster Sampling\n",
    "\n",
    "When sampling is expensive a strategyy is required to reduce the cost, yet still keep randomized sampling. Some examples of data which is expensive to collect includues:\n",
    "\n",
    "- Surveys of customers at a chain of stores.\n",
    "- Door to door survey of homeowners.\n",
    "\n",
    "In these cases, the popuation can be divided into clusters and a random selection of clusters sampled. The proceess of cluster sampling follows these steps:\n",
    "\n",
    "- Define the clusters and divide the data.\n",
    "- Randomly select some clusters.\n",
    "- Sample from the selected clusters.\n",
    "- Optionally, stratify the sample from the clusters.\n",
    "\n",
    "As an example, you can select a few store locations and Bernoulli sample customers at these locations.\n",
    "\n",
    "The code in the cell bellow divides a population into clusters, randomly selects 3 clusters and computes and prints some summary statistics. Run this code and examine the results."
   ]
  },
  {
   "cell_type": "code",
   "execution_count": 4,
   "metadata": {
    "collapsed": false
   },
   "outputs": [
    {
     "data": {
      "text/html": [
       "<table>\n",
       "<thead><tr><th scope=col>cluster_labels</th><th scope=col>n.group</th><th scope=col>mean.index</th></tr></thead>\n",
       "<tbody>\n",
       "\t<tr><td>4         </td><td>20        </td><td>0.45859110</td></tr>\n",
       "\t<tr><td>5         </td><td>20        </td><td>0.40275958</td></tr>\n",
       "\t<tr><td>6         </td><td>20        </td><td>0.09311412</td></tr>\n",
       "</tbody>\n",
       "</table>\n"
      ],
      "text/latex": [
       "\\begin{tabular}{r|lll}\n",
       " cluster\\_labels & n.group & mean.index\\\\\n",
       "\\hline\n",
       "\t 4          & 20         & 0.45859110\\\\\n",
       "\t 5          & 20         & 0.40275958\\\\\n",
       "\t 6          & 20         & 0.09311412\\\\\n",
       "\\end{tabular}\n"
      ],
      "text/markdown": [
       "\n",
       "cluster_labels | n.group | mean.index | \n",
       "|---|---|---|\n",
       "| 4          | 20         | 0.45859110 | \n",
       "| 5          | 20         | 0.40275958 | \n",
       "| 6          | 20         | 0.09311412 | \n",
       "\n",
       "\n"
      ],
      "text/plain": [
       "  cluster_labels n.group mean.index\n",
       "1 4              20      0.45859110\n",
       "2 5              20      0.40275958\n",
       "3 6              20      0.09311412"
      ]
     },
     "metadata": {},
     "output_type": "display_data"
    }
   ],
   "source": [
    "##----Cluster Sampling-----\n",
    "num_clusters = 10\n",
    "data$cluster_labels = sample(rep(1:num_clusters,each=2*num_clusters))\n",
    "clusters_sampled = sample(1:10, 3) # Pick three clusters to sample\n",
    "cluster_sample = data[data$cluster_labels %in% clusters_sampled,]\n",
    "cluster_sample %>% group_by(cluster_labels) %>% summarise(n.group = n(), mean.index = mean(var1))"
   ]
  },
  {
   "cell_type": "markdown",
   "metadata": {},
   "source": [
    "You can see the  3 clsuters of 20 cases each which have been selected.\n",
    "\n",
    "Recalling that the population contians groups the sample from the clusters can be summarized by group by runing the code in the cell below. "
   ]
  },
  {
   "cell_type": "code",
   "execution_count": 5,
   "metadata": {
    "collapsed": false
   },
   "outputs": [
    {
     "data": {
      "text/html": [
       "<table>\n",
       "<thead><tr><th scope=col>group</th><th scope=col>n.group</th><th scope=col>mean.index</th></tr></thead>\n",
       "<tbody>\n",
       "\t<tr><td>1         </td><td> 6        </td><td>0.58832030</td></tr>\n",
       "\t<tr><td>2         </td><td>21        </td><td>0.26230069</td></tr>\n",
       "\t<tr><td>3         </td><td>26        </td><td>0.38607089</td></tr>\n",
       "\t<tr><td>4         </td><td> 7        </td><td>0.00188809</td></tr>\n",
       "</tbody>\n",
       "</table>\n"
      ],
      "text/latex": [
       "\\begin{tabular}{r|lll}\n",
       " group & n.group & mean.index\\\\\n",
       "\\hline\n",
       "\t 1          &  6         & 0.58832030\\\\\n",
       "\t 2          & 21         & 0.26230069\\\\\n",
       "\t 3          & 26         & 0.38607089\\\\\n",
       "\t 4          &  7         & 0.00188809\\\\\n",
       "\\end{tabular}\n"
      ],
      "text/markdown": [
       "\n",
       "group | n.group | mean.index | \n",
       "|---|---|---|---|\n",
       "| 1          |  6         | 0.58832030 | \n",
       "| 2          | 21         | 0.26230069 | \n",
       "| 3          | 26         | 0.38607089 | \n",
       "| 4          |  7         | 0.00188809 | \n",
       "\n",
       "\n"
      ],
      "text/plain": [
       "  group n.group mean.index\n",
       "1 1      6      0.58832030\n",
       "2 2     21      0.26230069\n",
       "3 3     26      0.38607089\n",
       "4 4      7      0.00188809"
      ]
     },
     "metadata": {},
     "output_type": "display_data"
    }
   ],
   "source": [
    "cluster_sample %>% group_by(group) %>% summarise(n.group = n(), mean.index = mean(var1))"
   ]
  },
  {
   "cell_type": "markdown",
   "metadata": {},
   "source": [
    "**Your Turn:** Sample the clusters by `group` and `cluster_labels`, compute the count and mean for the index, and then sort (`arrange`) by the  `cluster_labels` and `group`. Are the counts in the samples fairly different "
   ]
  },
  {
   "cell_type": "code",
   "execution_count": null,
   "metadata": {
    "collapsed": false
   },
   "outputs": [],
   "source": []
  },
  {
   "cell_type": "markdown",
   "metadata": {},
   "source": [
    "### Systematic Sampling\n",
    "\n",
    "**WARNING: systmatic sampling is a form of convienience sampling. Convienience sampling almost always leads to problems!**\n",
    "\n",
    "In systematic sampling every k th case of the population is selected. As you can imagine, this approach is not a random sampling method, but rather a case of convinience sampling. \n",
    "\n",
    "The code in the cell bellow systematically samples the population and computes some summary statistics. Run this code and examine the results. "
   ]
  },
  {
   "cell_type": "code",
   "execution_count": 6,
   "metadata": {
    "collapsed": false
   },
   "outputs": [
    {
     "data": {
      "text/html": [
       "<table>\n",
       "<thead><tr><th scope=col>group</th><th scope=col>n.group</th><th scope=col>mean.index</th></tr></thead>\n",
       "<tbody>\n",
       "\t<tr><td>1         </td><td> 6        </td><td> 0.5106537</td></tr>\n",
       "\t<tr><td>2         </td><td>12        </td><td> 0.2969717</td></tr>\n",
       "\t<tr><td>3         </td><td>15        </td><td>-0.7008903</td></tr>\n",
       "\t<tr><td>4         </td><td> 7        </td><td>-0.8074473</td></tr>\n",
       "</tbody>\n",
       "</table>\n"
      ],
      "text/latex": [
       "\\begin{tabular}{r|lll}\n",
       " group & n.group & mean.index\\\\\n",
       "\\hline\n",
       "\t 1          &  6         &  0.5106537\\\\\n",
       "\t 2          & 12         &  0.2969717\\\\\n",
       "\t 3          & 15         & -0.7008903\\\\\n",
       "\t 4          &  7         & -0.8074473\\\\\n",
       "\\end{tabular}\n"
      ],
      "text/markdown": [
       "\n",
       "group | n.group | mean.index | \n",
       "|---|---|---|---|\n",
       "| 1          |  6         |  0.5106537 | \n",
       "| 2          | 12         |  0.2969717 | \n",
       "| 3          | 15         | -0.7008903 | \n",
       "| 4          |  7         | -0.8074473 | \n",
       "\n",
       "\n"
      ],
      "text/plain": [
       "  group n.group mean.index\n",
       "1 1      6       0.5106537\n",
       "2 2     12       0.2969717\n",
       "3 3     15      -0.7008903\n",
       "4 4      7      -0.8074473"
      ]
     },
     "metadata": {},
     "output_type": "display_data"
    }
   ],
   "source": [
    "##------Systematic Sampling-----\n",
    "k = 5 # 100/5 = 20 observations\n",
    "sys_sample_even = data[seq(1,nrow(data), by = k),]\n",
    "sys_sample_even %>% group_by(group) %>% summarise(n.group = n(), mean.index = mean(var1))"
   ]
  },
  {
   "cell_type": "markdown",
   "metadata": {
    "collapsed": false
   },
   "source": [
    "Notice the differing sizes of the sample in each group and the bias in the mean estimates. This illustrates the hazards of convienience sampling. \n",
    "\n",
    "### A few more thoughts on sampling\n",
    "\n",
    "- Whenever you are planing to sample data, make sure you have a clear sampling plan. \n",
    "- Know number of clusters, strata, samples in advance.\n",
    "- Don’t stop sampling when desired result is achieved: e.g. error measure! \n",
    "- Note that random sampling, if done properly, controls for database effects, like indexing. \n"
   ]
  },
  {
   "cell_type": "markdown",
   "metadata": {},
   "source": [
    "## Law of large numers\n",
    "\n",
    "Sample statistics converge to the population statistics as more unbiased experiments are performed.\n",
    "- For example, the mean of 50 coin flips (0,1)=(T,H) is usually farther away from the true mean of 0.5 than 5,000 coin flips.\n",
    "- First proof by Jacob Bernoulli in 1713\n",
    "\n",
    "As an example of convergance of samples, the code in the cell below computes the quantile which converges toward `0` as the sample size increates. Run this code and  examine the results. "
   ]
  },
  {
   "cell_type": "code",
   "execution_count": 7,
   "metadata": {
    "collapsed": false
   },
   "outputs": [
    {
     "data": {
      "text/html": [
       "0.166666666666667"
      ],
      "text/latex": [
       "0.166666666666667"
      ],
      "text/markdown": [
       "0.166666666666667"
      ],
      "text/plain": [
       "[1] 0.1666667"
      ]
     },
     "metadata": {},
     "output_type": "display_data"
    },
    {
     "data": {
      "text/html": [
       "<ol>\n",
       "\t<li>0.137013114267471</li>\n",
       "\t<li>0.0436643213197711</li>\n",
       "\t<li>0.0138185759947244</li>\n",
       "\t<li>0.00437015609030663</li>\n",
       "\t<li>0.00138197540785045</li>\n",
       "</ol>\n"
      ],
      "text/latex": [
       "\\begin{enumerate}\n",
       "\\item 0.137013114267471\n",
       "\\item 0.0436643213197711\n",
       "\\item 0.0138185759947244\n",
       "\\item 0.00437015609030663\n",
       "\\item 0.00138197540785045\n",
       "\\end{enumerate}\n"
      ],
      "text/markdown": [
       "1. 0.137013114267471\n",
       "2. 0.0436643213197711\n",
       "3. 0.0138185759947244\n",
       "4. 0.00437015609030663\n",
       "5. 0.00138197540785045\n",
       "\n",
       "\n"
      ],
      "text/plain": [
       "[[1]]\n",
       "[1] 0.1370131\n",
       "\n",
       "[[2]]\n",
       "[1] 0.04366432\n",
       "\n",
       "[[3]]\n",
       "[1] 0.01381858\n",
       "\n",
       "[[4]]\n",
       "[1] 0.004370156\n",
       "\n",
       "[[5]]\n",
       "[1] 0.001381975\n"
      ]
     },
     "metadata": {},
     "output_type": "display_data"
    }
   ],
   "source": [
    "##-----Law of Large Numbers----\n",
    "##-----Use rolls of dice-------\n",
    "## set a probability\n",
    "p_six = 1/6\n",
    "p_six\n",
    "xs = c(10, 100, 1000, 10000, 100000)\n",
    "sizes = c(60, 600, 6000, 60000, 600000)\n",
    "# roll the dice and find p(x)\n",
    "Map(function(x,s) dbinom(x = x, size = s, prob=p_six), xs, sizes)"
   ]
  },
  {
   "cell_type": "markdown",
   "metadata": {},
   "source": [
    "Let's try another example. Find the probability that samples from the Binomial distribution are within some interval of each other. "
   ]
  },
  {
   "cell_type": "code",
   "execution_count": 8,
   "metadata": {
    "collapsed": false
   },
   "outputs": [
    {
     "data": {
      "text/html": [
       "0.613863089084"
      ],
      "text/latex": [
       "0.613863089084"
      ],
      "text/markdown": [
       "0.613863089084"
      ],
      "text/plain": [
       "[1] 0.6138631"
      ]
     },
     "metadata": {},
     "output_type": "display_data"
    },
    {
     "data": {
      "text/html": [
       "0.613863089084"
      ],
      "text/latex": [
       "0.613863089084"
      ],
      "text/markdown": [
       "0.613863089084"
      ],
      "text/plain": [
       "[1] 0.6138631"
      ]
     },
     "metadata": {},
     "output_type": "display_data"
    }
   ],
   "source": [
    "# Probability of within 5%?\n",
    "# 1) p(7<x<13|60 trails)\n",
    "pbinom(12, size=60, prob=p_six) - pbinom(7, size=60, prob=p_six)\n",
    "# alternatively\n",
    "sum(sapply(8:12, function(x) dbinom(x, size=60, prob=p_six)))"
   ]
  },
  {
   "cell_type": "code",
   "execution_count": 9,
   "metadata": {
    "collapsed": false
   },
   "outputs": [
    {
     "data": {
      "text/html": [
       "0.998746619114716"
      ],
      "text/latex": [
       "0.998746619114716"
      ],
      "text/markdown": [
       "0.998746619114716"
      ],
      "text/plain": [
       "[1] 0.9987466"
      ]
     },
     "metadata": {},
     "output_type": "display_data"
    },
    {
     "data": {
      "text/html": [
       "0.998746619114716"
      ],
      "text/latex": [
       "0.998746619114716"
      ],
      "text/markdown": [
       "0.998746619114716"
      ],
      "text/plain": [
       "[1] 0.9987466"
      ]
     },
     "metadata": {},
     "output_type": "display_data"
    }
   ],
   "source": [
    "# 2) p(70<x<130|600 trails)\n",
    "pbinom(129, size=600, prob=p_six) - pbinom(70, size=600, prob=p_six)\n",
    "# alternatively\n",
    "sum(sapply(71:129, function(x) dbinom(x, size=600, prob=p_six)))"
   ]
  },
  {
   "cell_type": "markdown",
   "metadata": {},
   "source": [
    "Now plot the distributions of the realizations for the two cases."
   ]
  },
  {
   "cell_type": "code",
   "execution_count": 10,
   "metadata": {
    "collapsed": false
   },
   "outputs": [
    {
     "data": {
      "image/png": "[encoded data removed]",
      "text/plain": [
       "Plot with title \"Roll a Die 60 or 600 Times\""
      ]
     },
     "metadata": {},
     "output_type": "display_data"
    }
   ],
   "source": [
    "# View Distributions:\n",
    "x_60 = 1:60\n",
    "y_60 = dbinom(x_60, size=60, prob=p_six)\n",
    "\n",
    "x_600 = 1:150\n",
    "y_600 = dbinom(x_600, size=600, prob=p_six)\n",
    "\n",
    "plot(x_60, y_60, type='l', main='Roll a Die 60 or 600 Times', xlab=\"# of Successes\",\n",
    "     ylab=\"Probability\", lwd=2, col=\"green\", xlim=c(1,150))\n",
    "lines(x_600, y_600, lwd=2, col=\"blue\")\n",
    "legend(\"topright\", c(\"Roll 60 Times\", \"Roll 600 Times\"), col=c(\"green\", \"blue\"),\n",
    "      lty=c(1,1), lwd=c(2,2))"
   ]
  },
  {
   "cell_type": "markdown",
   "metadata": {},
   "source": [
    "### Convergancec for a Binomial distribution \n",
    "\n",
    "Let's look at the convergance of the estimated probability for a number of flips pf a fair coin. This series should converge to 0.5 as the number of samples increses. Run this code and examine the results."
   ]
  },
  {
   "cell_type": "code",
   "execution_count": 11,
   "metadata": {
    "collapsed": false
   },
   "outputs": [
    {
     "data": {
      "text/html": [
       "0.500025001875156"
      ],
      "text/latex": [
       "0.500025001875156"
      ],
      "text/markdown": [
       "0.500025001875156"
      ],
      "text/plain": [
       "[1] 0.500025"
      ]
     },
     "metadata": {},
     "output_type": "display_data"
    },
    {
     "data": {
      "text/html": [
       "0.5"
      ],
      "text/latex": [
       "0.5"
      ],
      "text/markdown": [
       "0.5"
      ],
      "text/plain": [
       "[1] 0.5"
      ]
     },
     "metadata": {},
     "output_type": "display_data"
    },
    {
     "data": {
      "image/png": "[encoded data removed]",
      "text/plain": [
       "plot without title"
      ]
     },
     "metadata": {},
     "output_type": "display_data"
    }
   ],
   "source": [
    "##----Coin Flips-----\n",
    "# Calculate a running average of N-trials of flipping a fair coin\n",
    "n = 10000\n",
    "outcomes = round(runif(n))\n",
    "running_average = sapply(1:n, function(x) mean(outcomes[1:x]))\n",
    "plot(running_average, type='l')\n",
    "grid()\n",
    "\n",
    "outcomes_sd = sd(outcomes)\n",
    "outcomes_sd\n",
    "outcomes_sd_theo = sqrt( 0.5 * (1 - 0.5) )\n",
    "outcomes_sd_theo"
   ]
  },
  {
   "cell_type": "markdown",
   "metadata": {},
   "source": [
    "Notice how the runing mean convergest fairly quicky to the expected value of 0.5."
   ]
  },
  {
   "cell_type": "markdown",
   "metadata": {},
   "source": [
    "### Convergance for a Normal Distribution\n",
    "\n",
    "As we sample from a normal distribution, the mean of the sample will converge to the population mean and the sample standard deviation will converge to the population statndard deviation. The standard error of the sample mean should converge as:\n",
    "\n",
    "$$se = \\frac{sd}{\\sqrt(n)}$$\n",
    "\n",
    "Run the code in the cell below to plot the convergance of the sample mean as the number of samples increases."
   ]
  },
  {
   "cell_type": "code",
   "execution_count": 12,
   "metadata": {
    "collapsed": false
   },
   "outputs": [
    {
     "data": {
      "image/png": "[encoded data removed]",
      "text/plain": [
       "plot without title"
      ]
     },
     "metadata": {},
     "output_type": "display_data"
    }
   ],
   "source": [
    "##----St. Dev. vs. St. Error-----\n",
    "n = seq(10,10000,len=1000)\n",
    "\n",
    "sample_means = sapply(n, function(x) mean(rnorm(x)))\n",
    "sample_sds = sapply(n, function(x) sd(rnorm(x)))\n",
    "\n",
    "plot(n, sample_means) # Plot means\n",
    "lines(n, 1/sqrt(n))   # Plot means +- st. error\n",
    "lines(n, -1/sqrt(n))"
   ]
  },
  {
   "cell_type": "markdown",
   "metadata": {},
   "source": [
    "**Your Turn:** In the cell below create and exectue code to plot the convergance of the sample standard deviation. Try to include lines showing the expected bounds on the standard error. "
   ]
  },
  {
   "cell_type": "code",
   "execution_count": null,
   "metadata": {
    "collapsed": false
   },
   "outputs": [],
   "source": []
  }
 ],
 "metadata": {
  "anaconda-cloud": {},
  "kernelspec": {
   "display_name": "R",
   "language": "R",
   "name": "ir"
  },
  "language_info": {
   "codemirror_mode": "r",
   "file_extension": ".r",
   "mimetype": "text/x-r-source",
   "name": "R",
   "pygments_lexer": "r",
   "version": "3.3.1"
  }
 },
 "nbformat": 4,
 "nbformat_minor": 1
}
